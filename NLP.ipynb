{
 "cells": [
  {
   "cell_type": "code",
   "execution_count": 123,
   "id": "d9fd2f7e",
   "metadata": {},
   "outputs": [],
   "source": [
    "import pandas as pd\n",
    "import numpy as np\n",
    "from string import punctuation\n",
    "import re\n",
    "import string\n",
    "import matplotlib.pyplot as plt\n",
    "from wordcloud import WordCloud\n",
    "from textblob import TextBlob\n",
    "import seaborn as sns\n",
    "import nltk\n",
    "import collections\n",
    "\n",
    "\n",
    "from nltk.corpus import stopwords\n",
    "from nltk.stem.porter import PorterStemmer\n",
    "\n",
    "from sklearn.model_selection import train_test_split\n",
    "from sklearn.feature_extraction.text import TfidfVectorizer \n",
    "from sklearn.feature_extraction.text import TfidfTransformer\n",
    "from sklearn.feature_extraction.text import CountVectorizer\n",
    "from sklearn.preprocessing import LabelEncoder\n",
    "import yake\n",
    "\n",
    "from sklearn.linear_model import LogisticRegression\n",
    "from sklearn.metrics import classification_report\n",
    "from sklearn import model_selection, preprocessing, linear_model, metrics, svm\n",
    "from sklearn.tree import DecisionTreeClassifier\n",
    "from sklearn.ensemble import RandomForestClassifier\n",
    "from sklearn.svm import LinearSVC\n",
    "from sklearn.model_selection import cross_val_score\n",
    "\n",
    "\n"
   ]
  },
  {
   "cell_type": "code",
   "execution_count": null,
   "id": "76cd00a8",
   "metadata": {},
   "outputs": [],
   "source": [
    "'''This notebook contains several text analysis techniques each used for different purposes:\n",
    "\n",
    "1. Basic data exploration on features(scores, bank, devices,... except Translated comment) \n",
    "2. Text exploration on \"Translated comment\" column\n",
    "3. Text classification (to classify the opinionpolarity(positive, negative, neutral)). \n",
    "4. Evaluation the ML models\n",
    "5. keyword extraction'''"
   ]
  },
  {
   "cell_type": "code",
   "execution_count": null,
   "id": "8f98ef71",
   "metadata": {},
   "outputs": [],
   "source": [
    "'''1. Basic Data exploration:\n",
    "      Loading the data: Converting dataset file from xlsx to csv file, it can be easy to access. Dataset consist of 7 features \n",
    "      (date, score, Translated comment, Original comment, externalId, bank country and device). The first step consist of \n",
    "      statistic analysis on dataset to get a vision about data.\n",
    "      '''"
   ]
  },
  {
   "cell_type": "code",
   "execution_count": null,
   "id": "441ea85d",
   "metadata": {},
   "outputs": [],
   "source": [
    "'''2. Text exploration:\n",
    "      Customers of a bank leave their opinions. Their comments presented in Translated comment column of dataset. In this step\n",
    "      several statistics analysis will be done on the text variable (Translated comment). This analysis consist of counting the \n",
    "      number of words, number of questions, number of links, number of emoji...in each class. \n",
    "      Moreover I will check the frequency and importance of words by visualization by wordcloud and seaborn library.\n",
    "      \n",
    "      Data cleaning:\n",
    "      A class that is termed clean_tex is defined to clean data. This class consists of several functions to remove punctuations\n",
    "      , stopwords, emoji, uppercase words, and stemming process.\n",
    "      \n",
    "      '''"
   ]
  },
  {
   "cell_type": "code",
   "execution_count": null,
   "id": "7a7e9f34",
   "metadata": {},
   "outputs": [],
   "source": [
    "'''3. Text classification:\n",
    "      I will use sentiment analysis to classify the opinion polarity (positive, negative, neutral). For this step, I will use \n",
    "      the TextBlob library. I will use four Ml models to classify data and compare their results.\n",
    "      \n",
    "      Given that our labels are categorical (positive, negative, neutral), we need to convert them into numeric data. I use \n",
    "      LabelEncoder to convert categorical labels. Also, given that Ml methods just work on numeric data so we need to convert\n",
    "      text data. There are several techniques to convert text data. I will use countVectorizer and TF-IDf and then I will \n",
    "      compare the result of ML algorithms when text data are converted by CountVectorizer and TF-IDF.\n",
    "      \n",
    "       Another option to classify data can be classification based on scores. There are 10 scores (1,2,...,10). We can classify\n",
    "       translated comments bade on their scores to 10 class. To classify based on scores, labels are scores and we don't need to\n",
    "       convert them. Considering that other steps are the same as classification steps for polarity classification, I don't \n",
    "       implement classification based on scores.\n",
    "'''"
   ]
  },
  {
   "cell_type": "code",
   "execution_count": null,
   "id": "cf41a269",
   "metadata": {},
   "outputs": [],
   "source": [
    "'''4. Evaluation the ML models:\n",
    "\n",
    "      I will define a function to evaluate the models which helps to choose the best model based on their accuracy.There are \n",
    "      several techniques to evaluate models and comparing several models together and I will use accuracy which is the \n",
    "      measurement used to determine which is best at identifying relationships and patterns between variables in a dataset based\n",
    "      on the input, or training.  Moreover, confusion_matricx is another way to evaluate models. I will plot the confusion \n",
    "      matrix for the best model in this assignment. \n",
    "      '''"
   ]
  },
  {
   "cell_type": "code",
   "execution_count": null,
   "id": "1fe5468b",
   "metadata": {},
   "outputs": [],
   "source": [
    "'''5. Keyword Extraction\n",
    "      Another text analysis technique is keyword extraction. There are many libraries such as spaCy, YAKE, Rake-Nltk, Gensim\n",
    "      that help in the keyword extraction process. I will extract keywords by two different approaches by yake library and using \n",
    "      TF-IDF.'''"
   ]
  },
  {
   "cell_type": "code",
   "execution_count": 124,
   "id": "20446365",
   "metadata": {},
   "outputs": [
    {
     "data": {
      "text/html": [
       "<div>\n",
       "<style scoped>\n",
       "    .dataframe tbody tr th:only-of-type {\n",
       "        vertical-align: middle;\n",
       "    }\n",
       "\n",
       "    .dataframe tbody tr th {\n",
       "        vertical-align: top;\n",
       "    }\n",
       "\n",
       "    .dataframe thead th {\n",
       "        text-align: right;\n",
       "    }\n",
       "</style>\n",
       "<table border=\"1\" class=\"dataframe\">\n",
       "  <thead>\n",
       "    <tr style=\"text-align: right;\">\n",
       "      <th></th>\n",
       "      <th>Date</th>\n",
       "      <th>Score</th>\n",
       "      <th>Translated comment</th>\n",
       "      <th>Original comment</th>\n",
       "      <th>externalId</th>\n",
       "      <th>bank</th>\n",
       "      <th>country</th>\n",
       "      <th>device</th>\n",
       "    </tr>\n",
       "  </thead>\n",
       "  <tbody>\n",
       "    <tr>\n",
       "      <th>0</th>\n",
       "      <td>2018-09-10</td>\n",
       "      <td>9</td>\n",
       "      <td>Just very good and easy to use</td>\n",
       "      <td>Just very good and easy to use</td>\n",
       "      <td>NaN</td>\n",
       "      <td>lloyds bank mobile banking</td>\n",
       "      <td>global</td>\n",
       "      <td>android</td>\n",
       "    </tr>\n",
       "    <tr>\n",
       "      <th>1</th>\n",
       "      <td>2018-09-10</td>\n",
       "      <td>10</td>\n",
       "      <td>Quick too</td>\n",
       "      <td>Quick too</td>\n",
       "      <td>NaN</td>\n",
       "      <td>lloyds bank mobile banking</td>\n",
       "      <td>global</td>\n",
       "      <td>android</td>\n",
       "    </tr>\n",
       "    <tr>\n",
       "      <th>2</th>\n",
       "      <td>2018-09-10</td>\n",
       "      <td>10</td>\n",
       "      <td>Its much faster then laptop.</td>\n",
       "      <td>Its much faster then laptop.</td>\n",
       "      <td>NaN</td>\n",
       "      <td>lloyds bank mobile banking</td>\n",
       "      <td>global</td>\n",
       "      <td>android</td>\n",
       "    </tr>\n",
       "    <tr>\n",
       "      <th>3</th>\n",
       "      <td>2018-09-10</td>\n",
       "      <td>2</td>\n",
       "      <td>slow, clunky. useful but poor interface</td>\n",
       "      <td>slow, clunky. useful but poor interface</td>\n",
       "      <td>NaN</td>\n",
       "      <td>lloyds bank mobile banking</td>\n",
       "      <td>global</td>\n",
       "      <td>android</td>\n",
       "    </tr>\n",
       "    <tr>\n",
       "      <th>4</th>\n",
       "      <td>2018-09-10</td>\n",
       "      <td>9</td>\n",
       "      <td>makes my life much easier</td>\n",
       "      <td>makes my life much easier</td>\n",
       "      <td>NaN</td>\n",
       "      <td>lloyds bank mobile banking</td>\n",
       "      <td>global</td>\n",
       "      <td>android</td>\n",
       "    </tr>\n",
       "  </tbody>\n",
       "</table>\n",
       "</div>"
      ],
      "text/plain": [
       "        Date  Score                       Translated comment  \\\n",
       "0 2018-09-10      9           Just very good and easy to use   \n",
       "1 2018-09-10     10                                Quick too   \n",
       "2 2018-09-10     10             Its much faster then laptop.   \n",
       "3 2018-09-10      2  slow, clunky. useful but poor interface   \n",
       "4 2018-09-10      9                makes my life much easier   \n",
       "\n",
       "                          Original comment  externalId  \\\n",
       "0           Just very good and easy to use         NaN   \n",
       "1                                Quick too         NaN   \n",
       "2             Its much faster then laptop.         NaN   \n",
       "3  slow, clunky. useful but poor interface         NaN   \n",
       "4                makes my life much easier         NaN   \n",
       "\n",
       "                         bank country   device  \n",
       "0  lloyds bank mobile banking  global  android  \n",
       "1  lloyds bank mobile banking  global  android  \n",
       "2  lloyds bank mobile banking  global  android  \n",
       "3  lloyds bank mobile banking  global  android  \n",
       "4  lloyds bank mobile banking  global  android  "
      ]
     },
     "execution_count": 124,
     "metadata": {},
     "output_type": "execute_result"
    }
   ],
   "source": [
    "#Loading dataset and converting data into csv file\n",
    "\n",
    "df = pd.read_excel (r'C:\\Users\\karimin1\\banking app data.xlsx')\n",
    "df.to_csv (r'C:\\Users\\karimin1\\Lumoa_data.csv', index = None, header=True)\n",
    "df.head()"
   ]
  },
  {
   "cell_type": "code",
   "execution_count": 125,
   "id": "2bd79517",
   "metadata": {},
   "outputs": [
    {
     "name": "stdout",
     "output_type": "stream",
     "text": [
      "<class 'pandas.core.frame.DataFrame'>\n",
      "RangeIndex: 25000 entries, 0 to 24999\n",
      "Data columns (total 8 columns):\n",
      " #   Column              Non-Null Count  Dtype         \n",
      "---  ------              --------------  -----         \n",
      " 0   Date                25000 non-null  datetime64[ns]\n",
      " 1   Score               25000 non-null  int64         \n",
      " 2   Translated comment  24998 non-null  object        \n",
      " 3   Original comment    24997 non-null  object        \n",
      " 4   externalId          0 non-null      float64       \n",
      " 5   bank                25000 non-null  object        \n",
      " 6   country             25000 non-null  object        \n",
      " 7   device              25000 non-null  object        \n",
      "dtypes: datetime64[ns](1), float64(1), int64(1), object(5)\n",
      "memory usage: 1.5+ MB\n"
     ]
    }
   ],
   "source": [
    "#df.info() shows that the number data(25000) and dtype for each column\n",
    "df.info()"
   ]
  },
  {
   "cell_type": "code",
   "execution_count": 126,
   "id": "cfd5b807",
   "metadata": {},
   "outputs": [
    {
     "data": {
      "text/plain": [
       "2"
      ]
     },
     "execution_count": 126,
     "metadata": {},
     "output_type": "execute_result"
    }
   ],
   "source": [
    "#defining the sum of missing values in Translated comments. The number of missing value in df['Translated comment'] is 2. \n",
    "#Given that there are 25000 data, so we can ignore 2 missed comments among 25000 data\n",
    "\n",
    "df['Translated comment'].isnull().sum()"
   ]
  },
  {
   "cell_type": "code",
   "execution_count": 127,
   "id": "74ac7c64",
   "metadata": {},
   "outputs": [
    {
     "name": "stdout",
     "output_type": "stream",
     "text": [
      "['lloyds bank mobile banking' 'bank of america - mobile banking'\n",
      " 'hsbc mobile banking' 'nordea mobile bank finland' 'op-mobile'\n",
      " 's-mobiili' 'belfius mobile']\n",
      "[ 9 10  2  8  7  3  4  0  1  6  5]\n",
      "['android' 'iphone']\n"
     ]
    }
   ],
   "source": [
    "#There are 7 banks and scores for each bank are in range 1 to 10. Devices are android or iPhone.\n",
    "\n",
    "print(df['bank'].unique())\n",
    "print(df['Score'].unique())\n",
    "print(df['device'].unique())"
   ]
  },
  {
   "cell_type": "code",
   "execution_count": 128,
   "id": "0bc5785b",
   "metadata": {},
   "outputs": [
    {
     "name": "stdout",
     "output_type": "stream",
     "text": [
      "AxesSubplot(0.125,0.125;0.775x0.755)\n"
     ]
    },
    {
     "data": {
      "image/png": "[encoded data removed]",
      "text/plain": [
       "<Figure size 432x288 with 1 Axes>"
      ]
     },
     "metadata": {
      "needs_background": "light"
     },
     "output_type": "display_data"
    }
   ],
   "source": [
    "#Diagram (Frequency of score) shows that most of customers put high scores, 9,10. It mean that if the high score indicates\n",
    "#more satisfaction, then most of customers are satisfied.\n",
    "\n",
    "counts=df['Score'].value_counts().plot.bar()\n",
    "plt.title('(Frequency of scores)')\n",
    "print(counts)"
   ]
  },
  {
   "cell_type": "code",
   "execution_count": 129,
   "id": "066a3ece",
   "metadata": {},
   "outputs": [
    {
     "name": "stdout",
     "output_type": "stream",
     "text": [
      "AxesSubplot(0.125,0.125;0.775x0.755)\n"
     ]
    },
    {
     "data": {
      "image/png": "[encoded data removed]",
      "text/plain": [
       "<Figure size 432x288 with 1 Axes>"
      ]
     },
     "metadata": {
      "needs_background": "light"
     },
     "output_type": "display_data"
    }
   ],
   "source": [
    "#Digram (Avarage score for each bank) shows that 'lloyds bank mobile banking' and bank of america - mobile banking have the\n",
    "#most avarage score.\n",
    "\n",
    "df.groupby('bank')['Score'].mean().plot.bar()\n",
    "plt.title('(Avarage score for each bank)')\n",
    "plt.xlabel('score')\n",
    "print(counts)"
   ]
  },
  {
   "cell_type": "code",
   "execution_count": 130,
   "id": "f1b06d05",
   "metadata": {},
   "outputs": [],
   "source": [
    "df['Translated comment']=df['Translated comment'].apply(str)"
   ]
  },
  {
   "cell_type": "code",
   "execution_count": 131,
   "id": "c20b09e2",
   "metadata": {},
   "outputs": [],
   "source": [
    "# Creating a function to get the subjectivity.\n",
    "\n",
    "#A subjectivity identification task reports a float within the range [0.0, 1.0] where 0.0 is a very objective sentence and \n",
    "#1.0 is very subjective.\n",
    "\n",
    "def subjectivity(text):\n",
    "    return TextBlob(text).sentiment.subjectivity"
   ]
  },
  {
   "cell_type": "code",
   "execution_count": 132,
   "id": "e5f785cd",
   "metadata": {},
   "outputs": [],
   "source": [
    "# Creating a function to get the polarity.\n",
    "#TextBlob’s output for a polarity task is a float within the range [-1.0, 1.0] where -1.0 is a negative polarity and 1.0 is positive.\n",
    "\n",
    "def polarity(text):\n",
    "    return TextBlob(text).sentiment.polarity"
   ]
  },
  {
   "cell_type": "code",
   "execution_count": 133,
   "id": "615308af",
   "metadata": {},
   "outputs": [],
   "source": [
    "df['subjectivity']=df['Translated comment'].apply(subjectivity)"
   ]
  },
  {
   "cell_type": "code",
   "execution_count": 134,
   "id": "69d51209",
   "metadata": {},
   "outputs": [],
   "source": [
    "df['polarity'] = df['Translated comment'].apply(polarity)"
   ]
  },
  {
   "cell_type": "code",
   "execution_count": 135,
   "id": "f13b0ece",
   "metadata": {},
   "outputs": [
    {
     "data": {
      "text/html": [
       "<div>\n",
       "<style scoped>\n",
       "    .dataframe tbody tr th:only-of-type {\n",
       "        vertical-align: middle;\n",
       "    }\n",
       "\n",
       "    .dataframe tbody tr th {\n",
       "        vertical-align: top;\n",
       "    }\n",
       "\n",
       "    .dataframe thead th {\n",
       "        text-align: right;\n",
       "    }\n",
       "</style>\n",
       "<table border=\"1\" class=\"dataframe\">\n",
       "  <thead>\n",
       "    <tr style=\"text-align: right;\">\n",
       "      <th></th>\n",
       "      <th>Date</th>\n",
       "      <th>Score</th>\n",
       "      <th>Translated comment</th>\n",
       "      <th>Original comment</th>\n",
       "      <th>externalId</th>\n",
       "      <th>bank</th>\n",
       "      <th>country</th>\n",
       "      <th>device</th>\n",
       "      <th>subjectivity</th>\n",
       "      <th>polarity</th>\n",
       "    </tr>\n",
       "  </thead>\n",
       "  <tbody>\n",
       "    <tr>\n",
       "      <th>0</th>\n",
       "      <td>2018-09-10</td>\n",
       "      <td>9</td>\n",
       "      <td>Just very good and easy to use</td>\n",
       "      <td>Just very good and easy to use</td>\n",
       "      <td>NaN</td>\n",
       "      <td>lloyds bank mobile banking</td>\n",
       "      <td>global</td>\n",
       "      <td>android</td>\n",
       "      <td>0.806667</td>\n",
       "      <td>0.671667</td>\n",
       "    </tr>\n",
       "    <tr>\n",
       "      <th>1</th>\n",
       "      <td>2018-09-10</td>\n",
       "      <td>10</td>\n",
       "      <td>Quick too</td>\n",
       "      <td>Quick too</td>\n",
       "      <td>NaN</td>\n",
       "      <td>lloyds bank mobile banking</td>\n",
       "      <td>global</td>\n",
       "      <td>android</td>\n",
       "      <td>0.500000</td>\n",
       "      <td>0.333333</td>\n",
       "    </tr>\n",
       "    <tr>\n",
       "      <th>2</th>\n",
       "      <td>2018-09-10</td>\n",
       "      <td>10</td>\n",
       "      <td>Its much faster then laptop.</td>\n",
       "      <td>Its much faster then laptop.</td>\n",
       "      <td>NaN</td>\n",
       "      <td>lloyds bank mobile banking</td>\n",
       "      <td>global</td>\n",
       "      <td>android</td>\n",
       "      <td>0.200000</td>\n",
       "      <td>0.200000</td>\n",
       "    </tr>\n",
       "    <tr>\n",
       "      <th>3</th>\n",
       "      <td>2018-09-10</td>\n",
       "      <td>2</td>\n",
       "      <td>slow, clunky. useful but poor interface</td>\n",
       "      <td>slow, clunky. useful but poor interface</td>\n",
       "      <td>NaN</td>\n",
       "      <td>lloyds bank mobile banking</td>\n",
       "      <td>global</td>\n",
       "      <td>android</td>\n",
       "      <td>0.333333</td>\n",
       "      <td>-0.133333</td>\n",
       "    </tr>\n",
       "    <tr>\n",
       "      <th>4</th>\n",
       "      <td>2018-09-10</td>\n",
       "      <td>9</td>\n",
       "      <td>makes my life much easier</td>\n",
       "      <td>makes my life much easier</td>\n",
       "      <td>NaN</td>\n",
       "      <td>lloyds bank mobile banking</td>\n",
       "      <td>global</td>\n",
       "      <td>android</td>\n",
       "      <td>0.200000</td>\n",
       "      <td>0.200000</td>\n",
       "    </tr>\n",
       "  </tbody>\n",
       "</table>\n",
       "</div>"
      ],
      "text/plain": [
       "        Date  Score                       Translated comment  \\\n",
       "0 2018-09-10      9           Just very good and easy to use   \n",
       "1 2018-09-10     10                                Quick too   \n",
       "2 2018-09-10     10             Its much faster then laptop.   \n",
       "3 2018-09-10      2  slow, clunky. useful but poor interface   \n",
       "4 2018-09-10      9                makes my life much easier   \n",
       "\n",
       "                          Original comment  externalId  \\\n",
       "0           Just very good and easy to use         NaN   \n",
       "1                                Quick too         NaN   \n",
       "2             Its much faster then laptop.         NaN   \n",
       "3  slow, clunky. useful but poor interface         NaN   \n",
       "4                makes my life much easier         NaN   \n",
       "\n",
       "                         bank country   device  subjectivity  polarity  \n",
       "0  lloyds bank mobile banking  global  android      0.806667  0.671667  \n",
       "1  lloyds bank mobile banking  global  android      0.500000  0.333333  \n",
       "2  lloyds bank mobile banking  global  android      0.200000  0.200000  \n",
       "3  lloyds bank mobile banking  global  android      0.333333 -0.133333  \n",
       "4  lloyds bank mobile banking  global  android      0.200000  0.200000  "
      ]
     },
     "execution_count": 135,
     "metadata": {},
     "output_type": "execute_result"
    }
   ],
   "source": [
    "df.head()"
   ]
  },
  {
   "cell_type": "code",
   "execution_count": 136,
   "id": "2b8848e5",
   "metadata": {},
   "outputs": [],
   "source": [
    "#Create a function to compute the negative, neutral and positive analysis\n",
    "def analysis(score):\n",
    "    if score < 0:\n",
    "        return 'Negative'\n",
    "    elif score ==0:\n",
    "        return 'Neutral'\n",
    "    else:\n",
    "        return 'Positive'"
   ]
  },
  {
   "cell_type": "code",
   "execution_count": 137,
   "id": "46129a7b",
   "metadata": {},
   "outputs": [],
   "source": [
    "#The analysis column presents negative, positive or neutral status correspond to each raw(each comment).\n",
    "\n",
    "df['analysis']=df['polarity'].apply(analysis)"
   ]
  },
  {
   "cell_type": "code",
   "execution_count": 138,
   "id": "fb367216",
   "metadata": {},
   "outputs": [
    {
     "data": {
      "text/html": [
       "<div>\n",
       "<style scoped>\n",
       "    .dataframe tbody tr th:only-of-type {\n",
       "        vertical-align: middle;\n",
       "    }\n",
       "\n",
       "    .dataframe tbody tr th {\n",
       "        vertical-align: top;\n",
       "    }\n",
       "\n",
       "    .dataframe thead th {\n",
       "        text-align: right;\n",
       "    }\n",
       "</style>\n",
       "<table border=\"1\" class=\"dataframe\">\n",
       "  <thead>\n",
       "    <tr style=\"text-align: right;\">\n",
       "      <th></th>\n",
       "      <th>Date</th>\n",
       "      <th>Score</th>\n",
       "      <th>Translated comment</th>\n",
       "      <th>Original comment</th>\n",
       "      <th>externalId</th>\n",
       "      <th>bank</th>\n",
       "      <th>country</th>\n",
       "      <th>device</th>\n",
       "      <th>subjectivity</th>\n",
       "      <th>polarity</th>\n",
       "      <th>analysis</th>\n",
       "    </tr>\n",
       "  </thead>\n",
       "  <tbody>\n",
       "    <tr>\n",
       "      <th>0</th>\n",
       "      <td>2018-09-10</td>\n",
       "      <td>9</td>\n",
       "      <td>Just very good and easy to use</td>\n",
       "      <td>Just very good and easy to use</td>\n",
       "      <td>NaN</td>\n",
       "      <td>lloyds bank mobile banking</td>\n",
       "      <td>global</td>\n",
       "      <td>android</td>\n",
       "      <td>0.806667</td>\n",
       "      <td>0.671667</td>\n",
       "      <td>Positive</td>\n",
       "    </tr>\n",
       "    <tr>\n",
       "      <th>1</th>\n",
       "      <td>2018-09-10</td>\n",
       "      <td>10</td>\n",
       "      <td>Quick too</td>\n",
       "      <td>Quick too</td>\n",
       "      <td>NaN</td>\n",
       "      <td>lloyds bank mobile banking</td>\n",
       "      <td>global</td>\n",
       "      <td>android</td>\n",
       "      <td>0.500000</td>\n",
       "      <td>0.333333</td>\n",
       "      <td>Positive</td>\n",
       "    </tr>\n",
       "    <tr>\n",
       "      <th>2</th>\n",
       "      <td>2018-09-10</td>\n",
       "      <td>10</td>\n",
       "      <td>Its much faster then laptop.</td>\n",
       "      <td>Its much faster then laptop.</td>\n",
       "      <td>NaN</td>\n",
       "      <td>lloyds bank mobile banking</td>\n",
       "      <td>global</td>\n",
       "      <td>android</td>\n",
       "      <td>0.200000</td>\n",
       "      <td>0.200000</td>\n",
       "      <td>Positive</td>\n",
       "    </tr>\n",
       "    <tr>\n",
       "      <th>3</th>\n",
       "      <td>2018-09-10</td>\n",
       "      <td>2</td>\n",
       "      <td>slow, clunky. useful but poor interface</td>\n",
       "      <td>slow, clunky. useful but poor interface</td>\n",
       "      <td>NaN</td>\n",
       "      <td>lloyds bank mobile banking</td>\n",
       "      <td>global</td>\n",
       "      <td>android</td>\n",
       "      <td>0.333333</td>\n",
       "      <td>-0.133333</td>\n",
       "      <td>Negative</td>\n",
       "    </tr>\n",
       "    <tr>\n",
       "      <th>4</th>\n",
       "      <td>2018-09-10</td>\n",
       "      <td>9</td>\n",
       "      <td>makes my life much easier</td>\n",
       "      <td>makes my life much easier</td>\n",
       "      <td>NaN</td>\n",
       "      <td>lloyds bank mobile banking</td>\n",
       "      <td>global</td>\n",
       "      <td>android</td>\n",
       "      <td>0.200000</td>\n",
       "      <td>0.200000</td>\n",
       "      <td>Positive</td>\n",
       "    </tr>\n",
       "  </tbody>\n",
       "</table>\n",
       "</div>"
      ],
      "text/plain": [
       "        Date  Score                       Translated comment  \\\n",
       "0 2018-09-10      9           Just very good and easy to use   \n",
       "1 2018-09-10     10                                Quick too   \n",
       "2 2018-09-10     10             Its much faster then laptop.   \n",
       "3 2018-09-10      2  slow, clunky. useful but poor interface   \n",
       "4 2018-09-10      9                makes my life much easier   \n",
       "\n",
       "                          Original comment  externalId  \\\n",
       "0           Just very good and easy to use         NaN   \n",
       "1                                Quick too         NaN   \n",
       "2             Its much faster then laptop.         NaN   \n",
       "3  slow, clunky. useful but poor interface         NaN   \n",
       "4                makes my life much easier         NaN   \n",
       "\n",
       "                         bank country   device  subjectivity  polarity  \\\n",
       "0  lloyds bank mobile banking  global  android      0.806667  0.671667   \n",
       "1  lloyds bank mobile banking  global  android      0.500000  0.333333   \n",
       "2  lloyds bank mobile banking  global  android      0.200000  0.200000   \n",
       "3  lloyds bank mobile banking  global  android      0.333333 -0.133333   \n",
       "4  lloyds bank mobile banking  global  android      0.200000  0.200000   \n",
       "\n",
       "   analysis  \n",
       "0  Positive  \n",
       "1  Positive  \n",
       "2  Positive  \n",
       "3  Negative  \n",
       "4  Positive  "
      ]
     },
     "execution_count": 138,
     "metadata": {},
     "output_type": "execute_result"
    }
   ],
   "source": [
    "df.head()"
   ]
  },
  {
   "cell_type": "code",
   "execution_count": 139,
   "id": "15baec5e",
   "metadata": {
    "scrolled": true
   },
   "outputs": [
    {
     "name": "stdout",
     "output_type": "stream",
     "text": [
      "Positive    20422\n",
      "Neutral      2715\n",
      "Negative     1863\n",
      "Name: analysis, dtype: int64\n"
     ]
    },
    {
     "data": {
      "text/plain": [
       "Text(0.5, 1.0, 'analysis status')"
      ]
     },
     "execution_count": 139,
     "metadata": {},
     "output_type": "execute_result"
    },
    {
     "data": {
      "image/png": "[encoded data removed]",
      "text/plain": [
       "<Figure size 432x288 with 1 Axes>"
      ]
     },
     "metadata": {
      "needs_background": "light"
     },
     "output_type": "display_data"
    }
   ],
   "source": [
    "#Diagram \"analysis status\" shows that number of positive comments are more than neutral comments and the number of neutral\n",
    "#comments are more than negative comments.\n",
    "\n",
    "counts = df['analysis'].value_counts()\n",
    "sns.barplot(x=counts.index, y=counts)\n",
    "print(counts)\n",
    "plt.xlabel('Label')\n",
    "plt.ylabel('Count')\n",
    "plt.title('analysis status')"
   ]
  },
  {
   "cell_type": "code",
   "execution_count": 140,
   "id": "5e2de6d0",
   "metadata": {},
   "outputs": [
    {
     "data": {
      "text/plain": [
       "Positive    20422\n",
       "Neutral      2715\n",
       "Negative     1863\n",
       "Name: analysis, dtype: int64"
      ]
     },
     "execution_count": 140,
     "metadata": {},
     "output_type": "execute_result"
    }
   ],
   "source": [
    "df['analysis'].value_counts()"
   ]
  },
  {
   "cell_type": "code",
   "execution_count": 317,
   "id": "3ac7acae",
   "metadata": {},
   "outputs": [
    {
     "data": {
      "text/plain": [
       "'Exploratory Data Analysis\\n\\n TextAnalysis class is defined to analysis the \"Translated comment\".  In this class some  statistics analysis on the \"Translated comment\"\\n are computed:\\n \\n1. count_words: number of words in each raw of \"Translated comment\"\\n2. count_hashtags: number of tag words, preceded by a #\\n3. count_upper_words: number of uppercase words are sometimes used to express emotions\\n4. count_question: number of questions\\n5. count_link: number of links in the comments preceded by http(s)\\n6. count_emoji: number of emoji, which might be a good sign of the sentiment.\\n\\nFinally we can have a look at what are the most frequent words or importance words by wordcloud and barplot. '"
      ]
     },
     "execution_count": 317,
     "metadata": {},
     "output_type": "execute_result"
    }
   ],
   "source": [
    "'''Exploratory Data Analysis\n",
    "\n",
    " TextAnalysis class is defined to analysis the \"Translated comment\".  In this class some  statistics analysis on the \"Translated comment\"\n",
    " are computed:\n",
    " \n",
    "1. count_words: number of words in each raw of \"Translated comment\"\n",
    "2. count_hashtags: number of tag words, preceded by a #\n",
    "3. count_upper_words: number of uppercase words are sometimes used to express emotions\n",
    "4. count_question: number of questions\n",
    "5. count_link: number of links in the comments preceded by http(s)\n",
    "6. count_emoji: number of emoji, which might be a good sign of the sentiment.\n",
    "\n",
    "Finally we can have a look at what are the most frequent words or importance words by wordcloud and barplot. '''"
   ]
  },
  {
   "cell_type": "code",
   "execution_count": 141,
   "id": "a84a3dff",
   "metadata": {},
   "outputs": [],
   "source": [
    "\n",
    "class TextAnalysis:\n",
    "    #def __init__(self):\n",
    "     #   self.text = text\n",
    "    def count_match(self, pattern,text):\n",
    "        return len(re.findall(pattern,text))\n",
    "    \n",
    "        \n",
    "    def transform(self, X):\n",
    "        count_words=X.apply(lambda x: self.count_match(r'\\w+', x)) \n",
    "        count_hashtags=X.apply(lambda x: self.count_match(r'#\\w+', x))\n",
    "        count_upper_words = X.apply(lambda x: self.count_match(r'\\b[A-Z]{2,}\\b', x))\n",
    "        count_question = X.apply(lambda x: self.count_match(r'!|\\?', x))\n",
    "        count_link = X.apply(lambda x: self.count_match(r'http.?://[^\\s]+[\\s]?', x))\n",
    "        count_emoji=X.apply(lambda x: self.count_match(re.compile(\"[\"\n",
    "                           u\"\\U0001F600-\\U0001F64F\"  # emoticons\n",
    "                           u\"\\U0001F300-\\U0001F5FF\"  # symbols & pictographs\n",
    "                           u\"\\U0001F680-\\U0001F6FF\"  # transport & map symbols\n",
    "                           u\"\\U0001F1E0-\\U0001F1FF\"  # flags (iOS)\n",
    "                           u\"\\U00002702-\\U000027B0\"\n",
    "                           u\"\\U000024C2-\\U0001F251\"\n",
    "                           \"]+\", flags=re.UNICODE), x))\n",
    "        data=pd.DataFrame({'count_words':count_words,'count_hashtags':count_hashtags,'count_upper_words':count_upper_words,\n",
    "                          'count_question':count_question,'count_link':count_link,'count_emoji':count_emoji}) \n",
    "        return data"
   ]
  },
  {
   "cell_type": "code",
   "execution_count": 142,
   "id": "d8d3f2ca",
   "metadata": {},
   "outputs": [],
   "source": [
    "#ta is an object of class TextAnalysis\n",
    "ta = TextAnalysis()\n",
    "df_sentiment = ta.transform(df['Translated comment'])"
   ]
  },
  {
   "cell_type": "code",
   "execution_count": 143,
   "id": "dac82793",
   "metadata": {},
   "outputs": [],
   "source": [
    "#df_sentiment is a dataframe which presents exploratory data analysis. This consist of count_words, count_hashtags,\n",
    "#count_upper_words, count_question, count_link, count_emoji and  for each comment in \"Translated comment.\n",
    "\n",
    "df_sentiment['analysis']=df['analysis']"
   ]
  },
  {
   "cell_type": "code",
   "execution_count": 144,
   "id": "b357d287",
   "metadata": {},
   "outputs": [
    {
     "data": {
      "text/html": [
       "<div>\n",
       "<style scoped>\n",
       "    .dataframe tbody tr th:only-of-type {\n",
       "        vertical-align: middle;\n",
       "    }\n",
       "\n",
       "    .dataframe tbody tr th {\n",
       "        vertical-align: top;\n",
       "    }\n",
       "\n",
       "    .dataframe thead th {\n",
       "        text-align: right;\n",
       "    }\n",
       "</style>\n",
       "<table border=\"1\" class=\"dataframe\">\n",
       "  <thead>\n",
       "    <tr style=\"text-align: right;\">\n",
       "      <th></th>\n",
       "      <th>count_words</th>\n",
       "      <th>count_hashtags</th>\n",
       "      <th>count_upper_words</th>\n",
       "      <th>count_question</th>\n",
       "      <th>count_link</th>\n",
       "      <th>count_emoji</th>\n",
       "      <th>analysis</th>\n",
       "    </tr>\n",
       "  </thead>\n",
       "  <tbody>\n",
       "    <tr>\n",
       "      <th>0</th>\n",
       "      <td>7</td>\n",
       "      <td>0</td>\n",
       "      <td>0</td>\n",
       "      <td>0</td>\n",
       "      <td>0</td>\n",
       "      <td>0</td>\n",
       "      <td>Positive</td>\n",
       "    </tr>\n",
       "    <tr>\n",
       "      <th>1</th>\n",
       "      <td>2</td>\n",
       "      <td>0</td>\n",
       "      <td>0</td>\n",
       "      <td>0</td>\n",
       "      <td>0</td>\n",
       "      <td>0</td>\n",
       "      <td>Positive</td>\n",
       "    </tr>\n",
       "    <tr>\n",
       "      <th>2</th>\n",
       "      <td>5</td>\n",
       "      <td>0</td>\n",
       "      <td>0</td>\n",
       "      <td>0</td>\n",
       "      <td>0</td>\n",
       "      <td>0</td>\n",
       "      <td>Positive</td>\n",
       "    </tr>\n",
       "    <tr>\n",
       "      <th>3</th>\n",
       "      <td>6</td>\n",
       "      <td>0</td>\n",
       "      <td>0</td>\n",
       "      <td>0</td>\n",
       "      <td>0</td>\n",
       "      <td>0</td>\n",
       "      <td>Negative</td>\n",
       "    </tr>\n",
       "    <tr>\n",
       "      <th>4</th>\n",
       "      <td>5</td>\n",
       "      <td>0</td>\n",
       "      <td>0</td>\n",
       "      <td>0</td>\n",
       "      <td>0</td>\n",
       "      <td>0</td>\n",
       "      <td>Positive</td>\n",
       "    </tr>\n",
       "    <tr>\n",
       "      <th>...</th>\n",
       "      <td>...</td>\n",
       "      <td>...</td>\n",
       "      <td>...</td>\n",
       "      <td>...</td>\n",
       "      <td>...</td>\n",
       "      <td>...</td>\n",
       "      <td>...</td>\n",
       "    </tr>\n",
       "    <tr>\n",
       "      <th>24995</th>\n",
       "      <td>21</td>\n",
       "      <td>0</td>\n",
       "      <td>0</td>\n",
       "      <td>0</td>\n",
       "      <td>0</td>\n",
       "      <td>0</td>\n",
       "      <td>Positive</td>\n",
       "    </tr>\n",
       "    <tr>\n",
       "      <th>24996</th>\n",
       "      <td>1</td>\n",
       "      <td>0</td>\n",
       "      <td>0</td>\n",
       "      <td>0</td>\n",
       "      <td>0</td>\n",
       "      <td>0</td>\n",
       "      <td>Positive</td>\n",
       "    </tr>\n",
       "    <tr>\n",
       "      <th>24997</th>\n",
       "      <td>80</td>\n",
       "      <td>0</td>\n",
       "      <td>0</td>\n",
       "      <td>2</td>\n",
       "      <td>0</td>\n",
       "      <td>0</td>\n",
       "      <td>Negative</td>\n",
       "    </tr>\n",
       "    <tr>\n",
       "      <th>24998</th>\n",
       "      <td>28</td>\n",
       "      <td>0</td>\n",
       "      <td>0</td>\n",
       "      <td>1</td>\n",
       "      <td>0</td>\n",
       "      <td>0</td>\n",
       "      <td>Positive</td>\n",
       "    </tr>\n",
       "    <tr>\n",
       "      <th>24999</th>\n",
       "      <td>11</td>\n",
       "      <td>0</td>\n",
       "      <td>0</td>\n",
       "      <td>0</td>\n",
       "      <td>0</td>\n",
       "      <td>0</td>\n",
       "      <td>Positive</td>\n",
       "    </tr>\n",
       "  </tbody>\n",
       "</table>\n",
       "<p>25000 rows × 7 columns</p>\n",
       "</div>"
      ],
      "text/plain": [
       "       count_words  count_hashtags  count_upper_words  count_question  \\\n",
       "0                7               0                  0               0   \n",
       "1                2               0                  0               0   \n",
       "2                5               0                  0               0   \n",
       "3                6               0                  0               0   \n",
       "4                5               0                  0               0   \n",
       "...            ...             ...                ...             ...   \n",
       "24995           21               0                  0               0   \n",
       "24996            1               0                  0               0   \n",
       "24997           80               0                  0               2   \n",
       "24998           28               0                  0               1   \n",
       "24999           11               0                  0               0   \n",
       "\n",
       "       count_link  count_emoji  analysis  \n",
       "0               0            0  Positive  \n",
       "1               0            0  Positive  \n",
       "2               0            0  Positive  \n",
       "3               0            0  Negative  \n",
       "4               0            0  Positive  \n",
       "...           ...          ...       ...  \n",
       "24995           0            0  Positive  \n",
       "24996           0            0  Positive  \n",
       "24997           0            0  Negative  \n",
       "24998           0            0  Positive  \n",
       "24999           0            0  Positive  \n",
       "\n",
       "[25000 rows x 7 columns]"
      ]
     },
     "execution_count": 144,
     "metadata": {},
     "output_type": "execute_result"
    }
   ],
   "source": [
    "\n",
    "df_sentiment"
   ]
  },
  {
   "cell_type": "code",
   "execution_count": 145,
   "id": "ec9dcc48",
   "metadata": {},
   "outputs": [
    {
     "data": {
      "text/plain": [
       "<bound method NDFrame.describe of        count_words  count_hashtags  count_upper_words  count_question  \\\n",
       "0                7               0                  0               0   \n",
       "1                2               0                  0               0   \n",
       "2                5               0                  0               0   \n",
       "3                6               0                  0               0   \n",
       "4                5               0                  0               0   \n",
       "...            ...             ...                ...             ...   \n",
       "24995           21               0                  0               0   \n",
       "24996            1               0                  0               0   \n",
       "24997           80               0                  0               2   \n",
       "24998           28               0                  0               1   \n",
       "24999           11               0                  0               0   \n",
       "\n",
       "       count_link  count_emoji  analysis  \n",
       "0               0            0  Positive  \n",
       "1               0            0  Positive  \n",
       "2               0            0  Positive  \n",
       "3               0            0  Negative  \n",
       "4               0            0  Positive  \n",
       "...           ...          ...       ...  \n",
       "24995           0            0  Positive  \n",
       "24996           0            0  Positive  \n",
       "24997           0            0  Negative  \n",
       "24998           0            0  Positive  \n",
       "24999           0            0  Positive  \n",
       "\n",
       "[25000 rows x 7 columns]>"
      ]
     },
     "execution_count": 145,
     "metadata": {},
     "output_type": "execute_result"
    }
   ],
   "source": [
    "df_sentiment.describe"
   ]
  },
  {
   "cell_type": "code",
   "execution_count": 146,
   "id": "3eecbed9",
   "metadata": {},
   "outputs": [],
   "source": [
    "#detail is a function to present details of each class (positive, negative and neutral) respect to each feature in df_sentiment.\n",
    "\n",
    "def detail(df, col):\n",
    "    print('Descriptive stats for {}'.format(col))\n",
    "    print('-'*(len(col)+22))\n",
    "    print(df.groupby('analysis')[col].describe())\n",
    "    #bins = np.arange(df[col].min(), df[col].max() + 1)\n",
    "    g = sns.FacetGrid(df, col='analysis', size=5,  margin_titles=True)\n",
    "    g = g.map(plt.hist, col, bins=np.linspace(0, 40, 15))\n",
    "    plt.show()\n",
    "    "
   ]
  },
  {
   "cell_type": "code",
   "execution_count": 147,
   "id": "467eaf09",
   "metadata": {},
   "outputs": [
    {
     "name": "stdout",
     "output_type": "stream",
     "text": [
      "Descriptive stats for count_words\n",
      "---------------------------------\n",
      "            count       mean        std  min   25%   50%   75%    max\n",
      "analysis                                                             \n",
      "Negative   1863.0  30.448739  29.395986  1.0  11.0  23.0  39.0  298.0\n",
      "Neutral    2715.0   9.750276   9.226749  0.0   3.0   7.0  13.0   74.0\n",
      "Positive  20422.0  16.490794  18.797363  0.0   5.0  11.0  21.0  365.0\n"
     ]
    },
    {
     "name": "stderr",
     "output_type": "stream",
     "text": [
      "C:\\Users\\karimin1\\Anaconda3\\lib\\site-packages\\seaborn\\axisgrid.py:316: UserWarning: The `size` parameter has been renamed to `height`; please update your code.\n",
      "  warnings.warn(msg, UserWarning)\n"
     ]
    },
    {
     "data": {
      "image/png": "[encoded data removed]",
      "text/plain": [
       "<Figure size 1080x360 with 3 Axes>"
      ]
     },
     "metadata": {
      "needs_background": "light"
     },
     "output_type": "display_data"
    }
   ],
   "source": [
    "detail(df_sentiment,'count_words')"
   ]
  },
  {
   "cell_type": "code",
   "execution_count": 148,
   "id": "c188cd4c",
   "metadata": {},
   "outputs": [
    {
     "data": {
      "text/plain": [
       "(365, 0)"
      ]
     },
     "execution_count": 148,
     "metadata": {},
     "output_type": "execute_result"
    }
   ],
   "source": [
    "df_sentiment['count_words'].max(),df_sentiment['count_words'].min()"
   ]
  },
  {
   "cell_type": "code",
   "execution_count": 149,
   "id": "8ebd7122",
   "metadata": {},
   "outputs": [
    {
     "name": "stdout",
     "output_type": "stream",
     "text": [
      "Descriptive stats for count_hashtags\n",
      "------------------------------------\n",
      "            count      mean       std  min  25%  50%  75%  max\n",
      "analysis                                                      \n",
      "Negative   1863.0  0.002147  0.046299  0.0  0.0  0.0  0.0  1.0\n",
      "Neutral    2715.0  0.002210  0.046967  0.0  0.0  0.0  0.0  1.0\n",
      "Positive  20422.0  0.000735  0.030494  0.0  0.0  0.0  0.0  2.0\n"
     ]
    },
    {
     "name": "stderr",
     "output_type": "stream",
     "text": [
      "C:\\Users\\karimin1\\Anaconda3\\lib\\site-packages\\seaborn\\axisgrid.py:316: UserWarning: The `size` parameter has been renamed to `height`; please update your code.\n",
      "  warnings.warn(msg, UserWarning)\n"
     ]
    },
    {
     "data": {
      "image/png": "[encoded data removed]",
      "text/plain": [
       "<Figure size 1080x360 with 3 Axes>"
      ]
     },
     "metadata": {
      "needs_background": "light"
     },
     "output_type": "display_data"
    }
   ],
   "source": [
    "detail(df_sentiment,'count_hashtags')"
   ]
  },
  {
   "cell_type": "code",
   "execution_count": 150,
   "id": "994ddd58",
   "metadata": {},
   "outputs": [
    {
     "data": {
      "text/plain": [
       "2"
      ]
     },
     "execution_count": 150,
     "metadata": {},
     "output_type": "execute_result"
    }
   ],
   "source": [
    "df_sentiment['count_hashtags'].max()"
   ]
  },
  {
   "cell_type": "code",
   "execution_count": 151,
   "id": "fe7bac1a",
   "metadata": {},
   "outputs": [
    {
     "name": "stdout",
     "output_type": "stream",
     "text": [
      "Descriptive stats for count_upper_words\n",
      "---------------------------------------\n",
      "            count      mean       std  min  25%  50%  75%    max\n",
      "analysis                                                        \n",
      "Negative   1863.0  0.606012  6.192092  0.0  0.0  0.0  0.0  252.0\n",
      "Neutral    2715.0  0.123389  1.217301  0.0  0.0  0.0  0.0   45.0\n",
      "Positive  20422.0  0.139947  0.787619  0.0  0.0  0.0  0.0   39.0\n"
     ]
    },
    {
     "name": "stderr",
     "output_type": "stream",
     "text": [
      "C:\\Users\\karimin1\\Anaconda3\\lib\\site-packages\\seaborn\\axisgrid.py:316: UserWarning: The `size` parameter has been renamed to `height`; please update your code.\n",
      "  warnings.warn(msg, UserWarning)\n"
     ]
    },
    {
     "data": {
      "image/png": "[encoded data removed]",
      "text/plain": [
       "<Figure size 1080x360 with 3 Axes>"
      ]
     },
     "metadata": {
      "needs_background": "light"
     },
     "output_type": "display_data"
    }
   ],
   "source": [
    "detail(df_sentiment,'count_upper_words')"
   ]
  },
  {
   "cell_type": "code",
   "execution_count": 152,
   "id": "53472008",
   "metadata": {},
   "outputs": [
    {
     "name": "stdout",
     "output_type": "stream",
     "text": [
      "Descriptive stats for count_question\n",
      "------------------------------------\n",
      "            count      mean       std  min  25%  50%  75%   max\n",
      "analysis                                                       \n",
      "Negative   1863.0  0.555019  1.470459  0.0  0.0  0.0  0.0  20.0\n",
      "Neutral    2715.0  0.287293  0.891273  0.0  0.0  0.0  0.0  11.0\n",
      "Positive  20422.0  0.477475  1.115686  0.0  0.0  0.0  0.0  18.0\n"
     ]
    },
    {
     "name": "stderr",
     "output_type": "stream",
     "text": [
      "C:\\Users\\karimin1\\Anaconda3\\lib\\site-packages\\seaborn\\axisgrid.py:316: UserWarning: The `size` parameter has been renamed to `height`; please update your code.\n",
      "  warnings.warn(msg, UserWarning)\n"
     ]
    },
    {
     "data": {
      "image/png": "[encoded data removed]",
      "text/plain": [
       "<Figure size 1080x360 with 3 Axes>"
      ]
     },
     "metadata": {
      "needs_background": "light"
     },
     "output_type": "display_data"
    }
   ],
   "source": [
    "detail(df_sentiment,'count_question')"
   ]
  },
  {
   "cell_type": "code",
   "execution_count": 153,
   "id": "9ac14f15",
   "metadata": {},
   "outputs": [
    {
     "data": {
      "text/plain": [
       "20"
      ]
     },
     "execution_count": 153,
     "metadata": {},
     "output_type": "execute_result"
    }
   ],
   "source": [
    "df_sentiment['count_question'].max()"
   ]
  },
  {
   "cell_type": "code",
   "execution_count": 154,
   "id": "fe322454",
   "metadata": {},
   "outputs": [
    {
     "name": "stdout",
     "output_type": "stream",
     "text": [
      "Descriptive stats for count_link\n",
      "--------------------------------\n",
      "            count  mean  std  min  25%  50%  75%  max\n",
      "analysis                                             \n",
      "Negative   1863.0   0.0  0.0  0.0  0.0  0.0  0.0  0.0\n",
      "Neutral    2715.0   0.0  0.0  0.0  0.0  0.0  0.0  0.0\n",
      "Positive  20422.0   0.0  0.0  0.0  0.0  0.0  0.0  0.0\n"
     ]
    },
    {
     "name": "stderr",
     "output_type": "stream",
     "text": [
      "C:\\Users\\karimin1\\Anaconda3\\lib\\site-packages\\seaborn\\axisgrid.py:316: UserWarning: The `size` parameter has been renamed to `height`; please update your code.\n",
      "  warnings.warn(msg, UserWarning)\n"
     ]
    },
    {
     "data": {
      "image/png": "[encoded data removed]",
      "text/plain": [
       "<Figure size 1080x360 with 3 Axes>"
      ]
     },
     "metadata": {
      "needs_background": "light"
     },
     "output_type": "display_data"
    }
   ],
   "source": [
    "#\"descriptive for count_link\" shows that the The comments do not contain any link or URL.\n",
    "\n",
    "detail(df_sentiment,'count_link')\n"
   ]
  },
  {
   "cell_type": "code",
   "execution_count": 155,
   "id": "95e85de4",
   "metadata": {},
   "outputs": [
    {
     "data": {
      "text/plain": [
       "0"
      ]
     },
     "execution_count": 155,
     "metadata": {},
     "output_type": "execute_result"
    }
   ],
   "source": [
    "df_sentiment['count_link'].max()"
   ]
  },
  {
   "cell_type": "code",
   "execution_count": 156,
   "id": "4f75e080",
   "metadata": {},
   "outputs": [
    {
     "name": "stdout",
     "output_type": "stream",
     "text": [
      "Descriptive stats for count_emoji\n",
      "---------------------------------\n",
      "            count      mean       std  min  25%  50%  75%  max\n",
      "analysis                                                      \n",
      "Negative   1863.0  0.018787  0.154319  0.0  0.0  0.0  0.0  2.0\n",
      "Neutral    2715.0  0.041621  0.232173  0.0  0.0  0.0  0.0  2.0\n",
      "Positive  20422.0  0.032416  0.192476  0.0  0.0  0.0  0.0  4.0\n"
     ]
    },
    {
     "name": "stderr",
     "output_type": "stream",
     "text": [
      "C:\\Users\\karimin1\\Anaconda3\\lib\\site-packages\\seaborn\\axisgrid.py:316: UserWarning: The `size` parameter has been renamed to `height`; please update your code.\n",
      "  warnings.warn(msg, UserWarning)\n"
     ]
    },
    {
     "data": {
      "image/png": "[encoded data removed]",
      "text/plain": [
       "<Figure size 1080x360 with 3 Axes>"
      ]
     },
     "metadata": {
      "needs_background": "light"
     },
     "output_type": "display_data"
    }
   ],
   "source": [
    "detail(df_sentiment,'count_emoji')"
   ]
  },
  {
   "cell_type": "code",
   "execution_count": 157,
   "id": "8cfaf00b",
   "metadata": {},
   "outputs": [
    {
     "data": {
      "text/plain": [
       "4"
      ]
     },
     "execution_count": 157,
     "metadata": {},
     "output_type": "execute_result"
    }
   ],
   "source": [
    "df_sentiment['count_emoji'].max()"
   ]
  },
  {
   "cell_type": "code",
   "execution_count": 158,
   "id": "f3c16c2b",
   "metadata": {},
   "outputs": [
    {
     "data": {
      "image/png": "[encoded data removed]",
      "text/plain": [
       "<Figure size 432x288 with 1 Axes>"
      ]
     },
     "metadata": {
      "needs_background": "light"
     },
     "output_type": "display_data"
    }
   ],
   "source": [
    "# Visualization of frequency or importance of words in comments by WordCloud. The wordcloud shows that importance words are:\n",
    "#app, Great, easy, ...\n",
    "\n",
    "allWords = ' '.join([w for w in df['Translated comment']])\n",
    "wordCloud = WordCloud( width=700, height=500, random_state=21, max_font_size=119).generate(allWords)\n",
    "plt.imshow(wordCloud,interpolation= \"bilinear\")\n",
    "plt.axis('off')\n",
    "plt.show()"
   ]
  },
  {
   "cell_type": "code",
   "execution_count": 159,
   "id": "867eb90a",
   "metadata": {},
   "outputs": [
    {
     "data": {
      "image/png": "[encoded data removed]",
      "text/plain": [
       "<Figure size 864x720 with 1 Axes>"
      ]
     },
     "metadata": {
      "needs_background": "light"
     },
     "output_type": "display_data"
    }
   ],
   "source": [
    "count_vector = CountVectorizer(analyzer= 'word', stop_words='english')\n",
    "count_vector.fit(df['Translated comment'])\n",
    "col=count_vector.transform(df['Translated comment'])\n",
    "\n",
    "word_freq = dict(zip(count_vector.get_feature_names(), np.asarray(col.sum(axis=0)).ravel()))\n",
    "word_counter = collections.Counter(word_freq)\n",
    "word_counter_df = pd.DataFrame(word_counter.most_common(20), columns = ['word', 'freq'])\n",
    "\n",
    "fig, ax = plt.subplots(figsize=(12, 10))\n",
    "bar_freq_word = sns.barplot(x=\"word\", y=\"freq\", data=word_counter_df, palette=\"PuBuGn_d\", ax=ax)\n",
    "plt.show();"
   ]
  },
  {
   "cell_type": "code",
   "execution_count": 736,
   "id": "766e46fd",
   "metadata": {},
   "outputs": [
    {
     "data": {
      "text/plain": [
       "\"Conclusions:\\n    \\n    I have created a DataFrame based on statistic analysis on Translated comment and analysis column which I had created in\\n    the previous step. There are three class labels to predict: negative, neutral, or positive.\\n        \\n    Word count: The number of words in the comment that has the most words is 365. On the other hands there are some comments\\n        that have just one or two words. It means that we have to be careful during data cleaning not to remove too many words.\\n        Positive comments include more words than negative or natural comments. The number of words in negative comments is the\\n        lowest.\\n        \\n    Hashtag count: Most of the comments do not contain hash tags. The avarage of hashtags in netural comments (0.002210) is more\\n        than negative comments(0.002147). Moreover the avarage of hashtags in positive comments is (0.000735).\\n        \\n    Upper words count: Sometimes customers use Upper-case words for more emphasis, especially for negative feedback. The \\n        analysis of data shows that the average number of upper-case words in negative comments is more than positive and then \\n        natural comments. \\n        \\n    Question and exclamation count: The negative comments contain a bit more exclamation or question marks. After negative comments,\\n        positive comments have more exclamation or question marks. Netural comments have lowest questions and exclaminations.    \\n        \\n    Link count: There are no links or http in comments, so we don't need to remove the URL address in the cleaning process.\\n        \\n    emoji count:  Descriptive stats for count_emoji shows customers use emojis in their comments. The number of emojis in \\n                  netural comments are more than the number of emojis in positive and then negative comments.\""
      ]
     },
     "execution_count": 736,
     "metadata": {},
     "output_type": "execute_result"
    }
   ],
   "source": [
    "'''Conclusions on text exploration:\n",
    "    \n",
    "    I have created a DataFrame based on statistical analysis on Translated comment and analysis column which I had created in\n",
    "    the previous step. There are three class labels to predict: negative, neutral, or positive.\n",
    "        \n",
    "    Word count: The number of words in the comment that has the most words is 365. On the other hands there are some comments\n",
    "    that have just one or two words. It means that we have to be careful during data cleaning not to remove too many words. \n",
    "    Positive comments include more words than negative or natural comments. The number of words in negative comments is less \n",
    "    than positive and neutral.\n",
    "        \n",
    "    Hashtag count: Most of the comments do not contain hash tags. The average of hashtags in neutral comments (0.002210) is \n",
    "    more than negative comments(0.002147). Moreover the average of hashtags in positive comments is (0.000735).\n",
    "        \n",
    "    Upper words count: Sometimes customers use Upper-case words for more emphasis, especially for negative feedback. The \n",
    "        analysis of data shows that the average number of upper-case words in negative comments is more than positive and then \n",
    "        natural comments. \n",
    "        \n",
    "    Question and exclamation count: The negative comments contain a bit more exclamation or question marks. After negative\n",
    "    comments, positive comments have more exclamation or question marks. Neutral comments have lowest questions and exclamations.    \n",
    "        \n",
    "    Link count: There are no links or http in comments, so we don't need to remove the URL address in the cleaning process.\n",
    "        \n",
    "    emoji count:  Descriptive stats for count_emoji shows customers use emojis in their comments. The number of emojis in \n",
    "                  positive comments are more than the number of emojis in neutral and then negative comments. \n",
    "\n",
    "\n",
    "    Moreover,  a look at wordcloud and barplot shows the most frequent words are app, easy, use, greate,...respectively. ''' \n",
    "   "
   ]
  },
  {
   "cell_type": "code",
   "execution_count": null,
   "id": "ba0471ca",
   "metadata": {},
   "outputs": [],
   "source": [
    "'''Data cleaning:\n",
    "\n",
    "1. removeing the  sign (#). As we see in the data exploration a few comments have used#.\n",
    "2. converting all words to lowercase.\n",
    "3. removeing all punctuations (? !, : ;... )\n",
    "4. removeing numbers\n",
    "5. removeing stopwords\n",
    "6. Useing PorterStemmer to keep the stem of the words\n",
    "\n",
    "Data exploration shows that comments do not contain URL, so we don't need a cleaning step for them.\n",
    "'''"
   ]
  },
  {
   "cell_type": "code",
   "execution_count": 160,
   "id": "6e24e618",
   "metadata": {},
   "outputs": [
    {
     "name": "stderr",
     "output_type": "stream",
     "text": [
      "[nltk_data] Downloading package stopwords to\n",
      "[nltk_data]     C:\\Users\\karimin1\\AppData\\Roaming\\nltk_data...\n",
      "[nltk_data]   Package stopwords is already up-to-date!\n"
     ]
    },
    {
     "data": {
      "text/plain": [
       "True"
      ]
     },
     "execution_count": 160,
     "metadata": {},
     "output_type": "execute_result"
    }
   ],
   "source": [
    "nltk.download('stopwords')\n"
   ]
  },
  {
   "cell_type": "code",
   "execution_count": 161,
   "id": "a3356a89",
   "metadata": {},
   "outputs": [
    {
     "data": {
      "text/plain": [
       "{'a',\n",
       " 'about',\n",
       " 'above',\n",
       " 'after',\n",
       " 'again',\n",
       " 'against',\n",
       " 'ain',\n",
       " 'all',\n",
       " 'am',\n",
       " 'an',\n",
       " 'and',\n",
       " 'any',\n",
       " 'are',\n",
       " 'aren',\n",
       " \"aren't\",\n",
       " 'as',\n",
       " 'at',\n",
       " 'be',\n",
       " 'because',\n",
       " 'been',\n",
       " 'before',\n",
       " 'being',\n",
       " 'below',\n",
       " 'between',\n",
       " 'both',\n",
       " 'but',\n",
       " 'by',\n",
       " 'can',\n",
       " 'couldn',\n",
       " \"couldn't\",\n",
       " 'd',\n",
       " 'did',\n",
       " 'didn',\n",
       " \"didn't\",\n",
       " 'do',\n",
       " 'does',\n",
       " 'doesn',\n",
       " \"doesn't\",\n",
       " 'doing',\n",
       " 'don',\n",
       " \"don't\",\n",
       " 'down',\n",
       " 'during',\n",
       " 'each',\n",
       " 'few',\n",
       " 'for',\n",
       " 'from',\n",
       " 'further',\n",
       " 'had',\n",
       " 'hadn',\n",
       " \"hadn't\",\n",
       " 'has',\n",
       " 'hasn',\n",
       " \"hasn't\",\n",
       " 'have',\n",
       " 'haven',\n",
       " \"haven't\",\n",
       " 'having',\n",
       " 'he',\n",
       " 'her',\n",
       " 'here',\n",
       " 'hers',\n",
       " 'herself',\n",
       " 'him',\n",
       " 'himself',\n",
       " 'his',\n",
       " 'how',\n",
       " 'i',\n",
       " 'if',\n",
       " 'in',\n",
       " 'into',\n",
       " 'is',\n",
       " 'isn',\n",
       " \"isn't\",\n",
       " 'it',\n",
       " \"it's\",\n",
       " 'its',\n",
       " 'itself',\n",
       " 'just',\n",
       " 'll',\n",
       " 'm',\n",
       " 'ma',\n",
       " 'me',\n",
       " 'mightn',\n",
       " \"mightn't\",\n",
       " 'more',\n",
       " 'most',\n",
       " 'mustn',\n",
       " \"mustn't\",\n",
       " 'my',\n",
       " 'myself',\n",
       " 'needn',\n",
       " \"needn't\",\n",
       " 'no',\n",
       " 'nor',\n",
       " 'not',\n",
       " 'now',\n",
       " 'o',\n",
       " 'of',\n",
       " 'off',\n",
       " 'on',\n",
       " 'once',\n",
       " 'only',\n",
       " 'or',\n",
       " 'other',\n",
       " 'our',\n",
       " 'ours',\n",
       " 'ourselves',\n",
       " 'out',\n",
       " 'over',\n",
       " 'own',\n",
       " 're',\n",
       " 's',\n",
       " 'same',\n",
       " 'shan',\n",
       " \"shan't\",\n",
       " 'she',\n",
       " \"she's\",\n",
       " 'should',\n",
       " \"should've\",\n",
       " 'shouldn',\n",
       " \"shouldn't\",\n",
       " 'so',\n",
       " 'some',\n",
       " 'such',\n",
       " 't',\n",
       " 'than',\n",
       " 'that',\n",
       " \"that'll\",\n",
       " 'the',\n",
       " 'their',\n",
       " 'theirs',\n",
       " 'them',\n",
       " 'themselves',\n",
       " 'then',\n",
       " 'there',\n",
       " 'these',\n",
       " 'they',\n",
       " 'this',\n",
       " 'those',\n",
       " 'through',\n",
       " 'to',\n",
       " 'too',\n",
       " 'under',\n",
       " 'until',\n",
       " 'up',\n",
       " 've',\n",
       " 'very',\n",
       " 'was',\n",
       " 'wasn',\n",
       " \"wasn't\",\n",
       " 'we',\n",
       " 'were',\n",
       " 'weren',\n",
       " \"weren't\",\n",
       " 'what',\n",
       " 'when',\n",
       " 'where',\n",
       " 'which',\n",
       " 'while',\n",
       " 'who',\n",
       " 'whom',\n",
       " 'why',\n",
       " 'will',\n",
       " 'with',\n",
       " 'won',\n",
       " \"won't\",\n",
       " 'wouldn',\n",
       " \"wouldn't\",\n",
       " 'y',\n",
       " 'you',\n",
       " \"you'd\",\n",
       " \"you'll\",\n",
       " \"you're\",\n",
       " \"you've\",\n",
       " 'your',\n",
       " 'yours',\n",
       " 'yourself',\n",
       " 'yourselves'}"
      ]
     },
     "execution_count": 161,
     "metadata": {},
     "output_type": "execute_result"
    }
   ],
   "source": [
    "set(stopwords.words('english'))"
   ]
  },
  {
   "cell_type": "code",
   "execution_count": 162,
   "id": "a7adb703",
   "metadata": {},
   "outputs": [],
   "source": [
    "class clean_text:\n",
    "    #def __init__(self):\n",
    "     #   self.text = text\n",
    "        \n",
    "    #removing emoji    \n",
    "    def remove_emoji(self,text):\n",
    "        emoji_pattern = re.compile(\"[\"\n",
    "                           u\"\\U0001F600-\\U0001F64F\"  # emoticons\n",
    "                           u\"\\U0001F300-\\U0001F5FF\"  # symbols & pictographs\n",
    "                           u\"\\U0001F680-\\U0001F6FF\"  # transport & map symbols\n",
    "                           u\"\\U0001F1E0-\\U0001F1FF\"  # flags (iOS)\n",
    "                           u\"\\U00002702-\\U000027B0\"\n",
    "                           u\"\\U000024C2-\\U0001F251\"\n",
    "                           \"]+\", flags=re.UNICODE)\n",
    "        return emoji_pattern.sub(r'', text)\n",
    "        \n",
    "     #removing punctuations   \n",
    "    def remove_punctuations(self,text):\n",
    "        exclude = set(string.punctuation)\n",
    "        result = ''.join(ch for ch in text if ch not in exclude)\n",
    "        return result\n",
    "    \n",
    "      #tokenization\n",
    "    #def tokenizer(self,text):\n",
    "       # result=nltk.word_tokenize(text)\n",
    "       # return result\n",
    "    \n",
    "      #removing stopwords\n",
    "        \n",
    "    def stop_word(self,text):\n",
    "        stopword=set(stopwords.words('english'))\n",
    "        words = text.split() \n",
    "        clean_words = [word for word in words if (word not in stopword) and len(word) > 1]\n",
    "        result=\" \".join(clean_words) \n",
    "        return result\n",
    "    \n",
    "      #removing numbers\n",
    "    def remove_numbers(self,text):\n",
    "        result = ''.join(c for c in text if not c.isdigit())\n",
    "        return result\n",
    "      \n",
    "      #converting to lower letter\n",
    "    def lower_letter(self,text):\n",
    "        result=''.join(word.lower() for word in text)\n",
    "        return result\n",
    "    \n",
    "      ##stemming\n",
    "    def stemmer(self,text):\n",
    "        porter = PorterStemmer()\n",
    "        words = text.split() \n",
    "        stemmed_words = [porter.stem(word) for word in words]\n",
    "        result=\" \".join(stemmed_words)\n",
    "        return result\n",
    "    \n",
    "    #def lemmatizer(self,text):\n",
    "      #  result=[lemmitizer.lemmatize(word) for word in text]\n",
    "      #  return result\n",
    "    \n",
    "    def transform(self,text):\n",
    "        result=text.apply(self.remove_emoji).apply(self.remove_punctuations).apply(self.remove_numbers).apply(self.stemmer).apply(self.stop_word)\n",
    "        return result\n",
    "    \n",
    "    def top_transform(self,text):\n",
    "        result=text.apply(self.remove_punctuations).apply(self.stemmer)\n",
    "        return result\n",
    "    \n",
    "    def pre_process(self,text):\n",
    "        result=text.apply(self.stop_word)\n",
    "        return result"
   ]
  },
  {
   "cell_type": "code",
   "execution_count": 163,
   "id": "d1c9e270",
   "metadata": {},
   "outputs": [],
   "source": [
    "#ct is an object of class clean_text and using transform function we can apply cleaning steps on Translated comment.\n",
    "\n",
    "ct=clean_text()"
   ]
  },
  {
   "cell_type": "code",
   "execution_count": 164,
   "id": "20076be7",
   "metadata": {},
   "outputs": [
    {
     "data": {
      "text/plain": [
       "0                                       veri good easi use\n",
       "1                                                    quick\n",
       "2                                       much faster laptop\n",
       "3                            slow clunki use poor interfac\n",
       "4                                    make life much easier\n",
       "                               ...                        \n",
       "24995    quick effect especi fingerprint reader passwor...\n",
       "24996                                                great\n",
       "24997    trash complet trash app take forev load everyt...\n",
       "24998    save trip bank love thi app everyth right phon...\n",
       "24999      veri use cash check phone make life much easier\n",
       "Name: Translated comment, Length: 25000, dtype: object"
      ]
     },
     "execution_count": 164,
     "metadata": {},
     "output_type": "execute_result"
    }
   ],
   "source": [
    "ct.transform(df['Translated comment'])"
   ]
  },
  {
   "cell_type": "code",
   "execution_count": 165,
   "id": "83052e63",
   "metadata": {},
   "outputs": [],
   "source": [
    "#clean_data column is a new column that presents comments after the cleaning process.\n",
    "\n",
    "df['clean_data']=ct.transform(df['Translated comment'])"
   ]
  },
  {
   "cell_type": "code",
   "execution_count": 166,
   "id": "1895d43a",
   "metadata": {},
   "outputs": [
    {
     "data": {
      "text/html": [
       "<div>\n",
       "<style scoped>\n",
       "    .dataframe tbody tr th:only-of-type {\n",
       "        vertical-align: middle;\n",
       "    }\n",
       "\n",
       "    .dataframe tbody tr th {\n",
       "        vertical-align: top;\n",
       "    }\n",
       "\n",
       "    .dataframe thead th {\n",
       "        text-align: right;\n",
       "    }\n",
       "</style>\n",
       "<table border=\"1\" class=\"dataframe\">\n",
       "  <thead>\n",
       "    <tr style=\"text-align: right;\">\n",
       "      <th></th>\n",
       "      <th>Date</th>\n",
       "      <th>Score</th>\n",
       "      <th>Translated comment</th>\n",
       "      <th>Original comment</th>\n",
       "      <th>externalId</th>\n",
       "      <th>bank</th>\n",
       "      <th>country</th>\n",
       "      <th>device</th>\n",
       "      <th>subjectivity</th>\n",
       "      <th>polarity</th>\n",
       "      <th>analysis</th>\n",
       "      <th>clean_data</th>\n",
       "    </tr>\n",
       "  </thead>\n",
       "  <tbody>\n",
       "    <tr>\n",
       "      <th>0</th>\n",
       "      <td>2018-09-10</td>\n",
       "      <td>9</td>\n",
       "      <td>Just very good and easy to use</td>\n",
       "      <td>Just very good and easy to use</td>\n",
       "      <td>NaN</td>\n",
       "      <td>lloyds bank mobile banking</td>\n",
       "      <td>global</td>\n",
       "      <td>android</td>\n",
       "      <td>0.806667</td>\n",
       "      <td>0.671667</td>\n",
       "      <td>Positive</td>\n",
       "      <td>veri good easi use</td>\n",
       "    </tr>\n",
       "    <tr>\n",
       "      <th>1</th>\n",
       "      <td>2018-09-10</td>\n",
       "      <td>10</td>\n",
       "      <td>Quick too</td>\n",
       "      <td>Quick too</td>\n",
       "      <td>NaN</td>\n",
       "      <td>lloyds bank mobile banking</td>\n",
       "      <td>global</td>\n",
       "      <td>android</td>\n",
       "      <td>0.500000</td>\n",
       "      <td>0.333333</td>\n",
       "      <td>Positive</td>\n",
       "      <td>quick</td>\n",
       "    </tr>\n",
       "    <tr>\n",
       "      <th>2</th>\n",
       "      <td>2018-09-10</td>\n",
       "      <td>10</td>\n",
       "      <td>Its much faster then laptop.</td>\n",
       "      <td>Its much faster then laptop.</td>\n",
       "      <td>NaN</td>\n",
       "      <td>lloyds bank mobile banking</td>\n",
       "      <td>global</td>\n",
       "      <td>android</td>\n",
       "      <td>0.200000</td>\n",
       "      <td>0.200000</td>\n",
       "      <td>Positive</td>\n",
       "      <td>much faster laptop</td>\n",
       "    </tr>\n",
       "    <tr>\n",
       "      <th>3</th>\n",
       "      <td>2018-09-10</td>\n",
       "      <td>2</td>\n",
       "      <td>slow, clunky. useful but poor interface</td>\n",
       "      <td>slow, clunky. useful but poor interface</td>\n",
       "      <td>NaN</td>\n",
       "      <td>lloyds bank mobile banking</td>\n",
       "      <td>global</td>\n",
       "      <td>android</td>\n",
       "      <td>0.333333</td>\n",
       "      <td>-0.133333</td>\n",
       "      <td>Negative</td>\n",
       "      <td>slow clunki use poor interfac</td>\n",
       "    </tr>\n",
       "    <tr>\n",
       "      <th>4</th>\n",
       "      <td>2018-09-10</td>\n",
       "      <td>9</td>\n",
       "      <td>makes my life much easier</td>\n",
       "      <td>makes my life much easier</td>\n",
       "      <td>NaN</td>\n",
       "      <td>lloyds bank mobile banking</td>\n",
       "      <td>global</td>\n",
       "      <td>android</td>\n",
       "      <td>0.200000</td>\n",
       "      <td>0.200000</td>\n",
       "      <td>Positive</td>\n",
       "      <td>make life much easier</td>\n",
       "    </tr>\n",
       "  </tbody>\n",
       "</table>\n",
       "</div>"
      ],
      "text/plain": [
       "        Date  Score                       Translated comment  \\\n",
       "0 2018-09-10      9           Just very good and easy to use   \n",
       "1 2018-09-10     10                                Quick too   \n",
       "2 2018-09-10     10             Its much faster then laptop.   \n",
       "3 2018-09-10      2  slow, clunky. useful but poor interface   \n",
       "4 2018-09-10      9                makes my life much easier   \n",
       "\n",
       "                          Original comment  externalId  \\\n",
       "0           Just very good and easy to use         NaN   \n",
       "1                                Quick too         NaN   \n",
       "2             Its much faster then laptop.         NaN   \n",
       "3  slow, clunky. useful but poor interface         NaN   \n",
       "4                makes my life much easier         NaN   \n",
       "\n",
       "                         bank country   device  subjectivity  polarity  \\\n",
       "0  lloyds bank mobile banking  global  android      0.806667  0.671667   \n",
       "1  lloyds bank mobile banking  global  android      0.500000  0.333333   \n",
       "2  lloyds bank mobile banking  global  android      0.200000  0.200000   \n",
       "3  lloyds bank mobile banking  global  android      0.333333 -0.133333   \n",
       "4  lloyds bank mobile banking  global  android      0.200000  0.200000   \n",
       "\n",
       "   analysis                     clean_data  \n",
       "0  Positive             veri good easi use  \n",
       "1  Positive                          quick  \n",
       "2  Positive             much faster laptop  \n",
       "3  Negative  slow clunki use poor interfac  \n",
       "4  Positive          make life much easier  "
      ]
     },
     "execution_count": 166,
     "metadata": {},
     "output_type": "execute_result"
    }
   ],
   "source": [
    "df.head()"
   ]
  },
  {
   "cell_type": "code",
   "execution_count": 167,
   "id": "0b2c6fef",
   "metadata": {},
   "outputs": [],
   "source": [
    "#converting categorical labels to integers: Given that labels are the categorical type and Ml algorithms can work by numeric\n",
    "#data, so I will convert them into the numeric format. I use LabelEncoder() to convert labels into numeric data. \n",
    "\n",
    "df['number_analysis']=LabelEncoder().fit_transform(df['analysis'])"
   ]
  },
  {
   "cell_type": "code",
   "execution_count": 168,
   "id": "0c1661db",
   "metadata": {},
   "outputs": [
    {
     "data": {
      "text/html": [
       "<div>\n",
       "<style scoped>\n",
       "    .dataframe tbody tr th:only-of-type {\n",
       "        vertical-align: middle;\n",
       "    }\n",
       "\n",
       "    .dataframe tbody tr th {\n",
       "        vertical-align: top;\n",
       "    }\n",
       "\n",
       "    .dataframe thead th {\n",
       "        text-align: right;\n",
       "    }\n",
       "</style>\n",
       "<table border=\"1\" class=\"dataframe\">\n",
       "  <thead>\n",
       "    <tr style=\"text-align: right;\">\n",
       "      <th></th>\n",
       "      <th>Date</th>\n",
       "      <th>Score</th>\n",
       "      <th>Translated comment</th>\n",
       "      <th>Original comment</th>\n",
       "      <th>externalId</th>\n",
       "      <th>bank</th>\n",
       "      <th>country</th>\n",
       "      <th>device</th>\n",
       "      <th>subjectivity</th>\n",
       "      <th>polarity</th>\n",
       "      <th>analysis</th>\n",
       "      <th>clean_data</th>\n",
       "      <th>number_analysis</th>\n",
       "    </tr>\n",
       "  </thead>\n",
       "  <tbody>\n",
       "    <tr>\n",
       "      <th>0</th>\n",
       "      <td>2018-09-10</td>\n",
       "      <td>9</td>\n",
       "      <td>Just very good and easy to use</td>\n",
       "      <td>Just very good and easy to use</td>\n",
       "      <td>NaN</td>\n",
       "      <td>lloyds bank mobile banking</td>\n",
       "      <td>global</td>\n",
       "      <td>android</td>\n",
       "      <td>0.806667</td>\n",
       "      <td>0.671667</td>\n",
       "      <td>Positive</td>\n",
       "      <td>veri good easi use</td>\n",
       "      <td>2</td>\n",
       "    </tr>\n",
       "    <tr>\n",
       "      <th>1</th>\n",
       "      <td>2018-09-10</td>\n",
       "      <td>10</td>\n",
       "      <td>Quick too</td>\n",
       "      <td>Quick too</td>\n",
       "      <td>NaN</td>\n",
       "      <td>lloyds bank mobile banking</td>\n",
       "      <td>global</td>\n",
       "      <td>android</td>\n",
       "      <td>0.500000</td>\n",
       "      <td>0.333333</td>\n",
       "      <td>Positive</td>\n",
       "      <td>quick</td>\n",
       "      <td>2</td>\n",
       "    </tr>\n",
       "    <tr>\n",
       "      <th>2</th>\n",
       "      <td>2018-09-10</td>\n",
       "      <td>10</td>\n",
       "      <td>Its much faster then laptop.</td>\n",
       "      <td>Its much faster then laptop.</td>\n",
       "      <td>NaN</td>\n",
       "      <td>lloyds bank mobile banking</td>\n",
       "      <td>global</td>\n",
       "      <td>android</td>\n",
       "      <td>0.200000</td>\n",
       "      <td>0.200000</td>\n",
       "      <td>Positive</td>\n",
       "      <td>much faster laptop</td>\n",
       "      <td>2</td>\n",
       "    </tr>\n",
       "    <tr>\n",
       "      <th>3</th>\n",
       "      <td>2018-09-10</td>\n",
       "      <td>2</td>\n",
       "      <td>slow, clunky. useful but poor interface</td>\n",
       "      <td>slow, clunky. useful but poor interface</td>\n",
       "      <td>NaN</td>\n",
       "      <td>lloyds bank mobile banking</td>\n",
       "      <td>global</td>\n",
       "      <td>android</td>\n",
       "      <td>0.333333</td>\n",
       "      <td>-0.133333</td>\n",
       "      <td>Negative</td>\n",
       "      <td>slow clunki use poor interfac</td>\n",
       "      <td>0</td>\n",
       "    </tr>\n",
       "    <tr>\n",
       "      <th>4</th>\n",
       "      <td>2018-09-10</td>\n",
       "      <td>9</td>\n",
       "      <td>makes my life much easier</td>\n",
       "      <td>makes my life much easier</td>\n",
       "      <td>NaN</td>\n",
       "      <td>lloyds bank mobile banking</td>\n",
       "      <td>global</td>\n",
       "      <td>android</td>\n",
       "      <td>0.200000</td>\n",
       "      <td>0.200000</td>\n",
       "      <td>Positive</td>\n",
       "      <td>make life much easier</td>\n",
       "      <td>2</td>\n",
       "    </tr>\n",
       "  </tbody>\n",
       "</table>\n",
       "</div>"
      ],
      "text/plain": [
       "        Date  Score                       Translated comment  \\\n",
       "0 2018-09-10      9           Just very good and easy to use   \n",
       "1 2018-09-10     10                                Quick too   \n",
       "2 2018-09-10     10             Its much faster then laptop.   \n",
       "3 2018-09-10      2  slow, clunky. useful but poor interface   \n",
       "4 2018-09-10      9                makes my life much easier   \n",
       "\n",
       "                          Original comment  externalId  \\\n",
       "0           Just very good and easy to use         NaN   \n",
       "1                                Quick too         NaN   \n",
       "2             Its much faster then laptop.         NaN   \n",
       "3  slow, clunky. useful but poor interface         NaN   \n",
       "4                makes my life much easier         NaN   \n",
       "\n",
       "                         bank country   device  subjectivity  polarity  \\\n",
       "0  lloyds bank mobile banking  global  android      0.806667  0.671667   \n",
       "1  lloyds bank mobile banking  global  android      0.500000  0.333333   \n",
       "2  lloyds bank mobile banking  global  android      0.200000  0.200000   \n",
       "3  lloyds bank mobile banking  global  android      0.333333 -0.133333   \n",
       "4  lloyds bank mobile banking  global  android      0.200000  0.200000   \n",
       "\n",
       "   analysis                     clean_data  number_analysis  \n",
       "0  Positive             veri good easi use                2  \n",
       "1  Positive                          quick                2  \n",
       "2  Positive             much faster laptop                2  \n",
       "3  Negative  slow clunki use poor interfac                0  \n",
       "4  Positive          make life much easier                2  "
      ]
     },
     "execution_count": 168,
     "metadata": {},
     "output_type": "execute_result"
    }
   ],
   "source": [
    "df.head()"
   ]
  },
  {
   "cell_type": "code",
   "execution_count": 169,
   "id": "1cfb729f",
   "metadata": {},
   "outputs": [
    {
     "data": {
      "text/plain": [
       "array([2, 0, 1])"
      ]
     },
     "execution_count": 169,
     "metadata": {},
     "output_type": "execute_result"
    }
   ],
   "source": [
    "df['number_analysis'].unique()"
   ]
  },
  {
   "cell_type": "code",
   "execution_count": null,
   "id": "7267f0e6",
   "metadata": {},
   "outputs": [],
   "source": [
    "'''Given that ML algorithms work with numeric data, we should convert text data into numeric data.There are two major approaches\n",
    "\n",
    "1. Count Vectorization\n",
    "2. TF-IDF Vectorization\n",
    "\n",
    "The count vectorization takes all words in all comments, assigns an ID and counts the frequency of the word per comment. One \n",
    "issue with CountVectorizer is that there might be words that occur frequently in observations of the target classes. These words\n",
    "can be removed since they do not have discriminatory information. TF-IDF vectorization can be used to downweight these frequent\n",
    "words. I use both techniques count vectorization technique and then TF-IDF vectorization and compare the result of classification \n",
    "models when text are converted by them.\n",
    "\n",
    "A function which is termed model_function, is defined to compare the accuracy of different models (LogisticRegression,\n",
    "DecisionTreeClassifier, SVM, RandomForest ).\n",
    "'''"
   ]
  },
  {
   "cell_type": "code",
   "execution_count": 173,
   "id": "e5e33305",
   "metadata": {},
   "outputs": [
    {
     "data": {
      "text/plain": [
       "25000"
      ]
     },
     "execution_count": 173,
     "metadata": {},
     "output_type": "execute_result"
    }
   ],
   "source": [
    "df['clean_data'].isnull().count()"
   ]
  },
  {
   "cell_type": "code",
   "execution_count": 174,
   "id": "8e8f4b90",
   "metadata": {},
   "outputs": [
    {
     "name": "stdout",
     "output_type": "stream",
     "text": [
      "63 records have no words left after text cleaning\n"
     ]
    }
   ],
   "source": [
    "#Some of comments contain just one or two words, so we should deal with some empty raws and their content has been removed in\n",
    "#by removing stop_words. I have considered an approch that replace empty raws by a text, ['removed text']\n",
    "\n",
    "\n",
    "empty_clean = df['clean_data']== ''\n",
    "print('{} records have no words left after text cleaning'.format(df['clean_data'][empty_clean].count()))\n"
   ]
  },
  {
   "cell_type": "code",
   "execution_count": 177,
   "id": "f51fb2c3",
   "metadata": {},
   "outputs": [],
   "source": [
    "df['clean_data'].loc[empty_clean] = '[removerd text]'"
   ]
  },
  {
   "cell_type": "code",
   "execution_count": 50,
   "id": "5aa22f86",
   "metadata": {},
   "outputs": [],
   "source": [
    "# Single Validation: Creating test data:\n",
    "\n",
    "#Given that evaluation of the trained model on the training set is not correct, we need another set which is termed test set to \n",
    "#evaluate the model. df['clean_data'] will be splited into train and test sets by train_test_split() function.\n",
    "\n",
    "X_train,X_test,y_train,y_test=train_test_split(df['clean_data'],df['number_analysis'],test_size=0.3,random_state=0)"
   ]
  },
  {
   "cell_type": "code",
   "execution_count": 51,
   "id": "38330a11",
   "metadata": {},
   "outputs": [
    {
     "data": {
      "text/plain": [
       "CountVectorizer()"
      ]
     },
     "execution_count": 51,
     "metadata": {},
     "output_type": "execute_result"
    }
   ],
   "source": [
    "countvectorizer = CountVectorizer(analyzer= 'word')\n",
    "countvectorizer.fit(df['clean_data'])"
   ]
  },
  {
   "cell_type": "code",
   "execution_count": 52,
   "id": "c38dc140",
   "metadata": {},
   "outputs": [],
   "source": [
    "X_train_count_vector=countvectorizer.transform(X_train)\n",
    "X_test_count_vector=countvectorizer.transform(X_test)"
   ]
  },
  {
   "cell_type": "code",
   "execution_count": 181,
   "id": "e518d9ae",
   "metadata": {},
   "outputs": [],
   "source": [
    "# model function presents the accuracy of models and helps to choose the best model.\n",
    "\n",
    "def model_function(classifier,training_set,label,test_set):\n",
    "    \n",
    "    # fit the training dataset on the classifier\n",
    "    classifier.fit(training_set,label)\n",
    "    \n",
    "    # predict the labels on validation dataset\n",
    "    predictions=classifier.predict(test_set)\n",
    "    #target_names = ['0', '1', '2']\n",
    "    \n",
    "    return metrics.accuracy_score(predictions, y_test) # Also we can use classification_report for getting recall, precision, F1"
   ]
  },
  {
   "cell_type": "code",
   "execution_count": 182,
   "id": "bcac30f4",
   "metadata": {},
   "outputs": [
    {
     "name": "stderr",
     "output_type": "stream",
     "text": [
      "C:\\Users\\karimin1\\Anaconda3\\lib\\site-packages\\sklearn\\linear_model\\_logistic.py:763: ConvergenceWarning: lbfgs failed to converge (status=1):\n",
      "STOP: TOTAL NO. of ITERATIONS REACHED LIMIT.\n",
      "\n",
      "Increase the number of iterations (max_iter) or scale the data as shown in:\n",
      "    https://scikit-learn.org/stable/modules/preprocessing.html\n",
      "Please also refer to the documentation for alternative solver options:\n",
      "    https://scikit-learn.org/stable/modules/linear_model.html#logistic-regression\n",
      "  n_iter_i = _check_optimize_result(\n"
     ]
    }
   ],
   "source": [
    "regression1=model_function(linear_model.LogisticRegression(), X_train_count_vector,y_train, X_test_count_vector)"
   ]
  },
  {
   "cell_type": "code",
   "execution_count": 183,
   "id": "0127382c",
   "metadata": {},
   "outputs": [
    {
     "name": "stdout",
     "output_type": "stream",
     "text": [
      "0.9368\n"
     ]
    }
   ],
   "source": [
    "\n",
    "print(regression1)"
   ]
  },
  {
   "cell_type": "code",
   "execution_count": 184,
   "id": "14d88438",
   "metadata": {},
   "outputs": [],
   "source": [
    "DecisionTree1=model_function(DecisionTreeClassifier(),X_train_count_vector,y_train,X_test_count_vector)"
   ]
  },
  {
   "cell_type": "code",
   "execution_count": 185,
   "id": "489bbc1c",
   "metadata": {},
   "outputs": [
    {
     "name": "stdout",
     "output_type": "stream",
     "text": [
      "0.9173333333333333\n"
     ]
    }
   ],
   "source": [
    "print(DecisionTree1)"
   ]
  },
  {
   "cell_type": "code",
   "execution_count": 186,
   "id": "693ab3a7",
   "metadata": {},
   "outputs": [
    {
     "name": "stderr",
     "output_type": "stream",
     "text": [
      "C:\\Users\\karimin1\\Anaconda3\\lib\\site-packages\\sklearn\\svm\\_base.py:985: ConvergenceWarning: Liblinear failed to converge, increase the number of iterations.\n",
      "  warnings.warn(\"Liblinear failed to converge, increase \"\n"
     ]
    }
   ],
   "source": [
    "svm1=model_function(LinearSVC(),X_train_count_vector,y_train,X_test_count_vector)"
   ]
  },
  {
   "cell_type": "code",
   "execution_count": 187,
   "id": "1eb5e345",
   "metadata": {},
   "outputs": [
    {
     "name": "stdout",
     "output_type": "stream",
     "text": [
      "0.9406666666666667\n"
     ]
    }
   ],
   "source": [
    "\n",
    "print(svm1)"
   ]
  },
  {
   "cell_type": "code",
   "execution_count": 188,
   "id": "ff6e8b28",
   "metadata": {},
   "outputs": [
    {
     "name": "stdout",
     "output_type": "stream",
     "text": [
      "0.9038666666666667\n"
     ]
    }
   ],
   "source": [
    "random_forest1=model_function(RandomForestClassifier(n_estimators = 10, criterion = 'entropy', random_state = 42),\n",
    "                        X_train_count_vector,y_train,X_test_count_vector)\n",
    "print(random_forest1)"
   ]
  },
  {
   "cell_type": "code",
   "execution_count": 189,
   "id": "7fe2626a",
   "metadata": {},
   "outputs": [
    {
     "data": {
      "text/plain": [
       "TfidfVectorizer()"
      ]
     },
     "execution_count": 189,
     "metadata": {},
     "output_type": "execute_result"
    }
   ],
   "source": [
    "#converting text by TF-IDF technique. I will implement ML models for converted text by TF-IDF and then compare the results\n",
    "#with the countvectorizer\n",
    "\n",
    "\n",
    "\n",
    "tfidf=TfidfVectorizer(analyzer= 'word')\n",
    "tfidf.fit(df['clean_data'])"
   ]
  },
  {
   "cell_type": "code",
   "execution_count": 190,
   "id": "a7c4344b",
   "metadata": {},
   "outputs": [],
   "source": [
    "X_train_tfidf=tfidf.transform(X_train)"
   ]
  },
  {
   "cell_type": "code",
   "execution_count": 191,
   "id": "02d476e9",
   "metadata": {},
   "outputs": [],
   "source": [
    "\n",
    "X_test_tfidf=tfidf.transform(X_test)"
   ]
  },
  {
   "cell_type": "code",
   "execution_count": 192,
   "id": "c294ca6d",
   "metadata": {},
   "outputs": [
    {
     "name": "stderr",
     "output_type": "stream",
     "text": [
      "C:\\Users\\karimin1\\Anaconda3\\lib\\site-packages\\sklearn\\linear_model\\_logistic.py:763: ConvergenceWarning: lbfgs failed to converge (status=1):\n",
      "STOP: TOTAL NO. of ITERATIONS REACHED LIMIT.\n",
      "\n",
      "Increase the number of iterations (max_iter) or scale the data as shown in:\n",
      "    https://scikit-learn.org/stable/modules/preprocessing.html\n",
      "Please also refer to the documentation for alternative solver options:\n",
      "    https://scikit-learn.org/stable/modules/linear_model.html#logistic-regression\n",
      "  n_iter_i = _check_optimize_result(\n"
     ]
    }
   ],
   "source": [
    "regression2=model_function(linear_model.LogisticRegression(), X_train_tfidf,y_train, X_test_tfidf)"
   ]
  },
  {
   "cell_type": "code",
   "execution_count": 193,
   "id": "c06ceca9",
   "metadata": {},
   "outputs": [
    {
     "name": "stdout",
     "output_type": "stream",
     "text": [
      "0.9245333333333333\n"
     ]
    }
   ],
   "source": [
    "print(regression2)"
   ]
  },
  {
   "cell_type": "code",
   "execution_count": 194,
   "id": "91415767",
   "metadata": {},
   "outputs": [],
   "source": [
    "DecisionTree2=model_function(DecisionTreeClassifier(),X_train_tfidf,y_train,X_test_tfidf)"
   ]
  },
  {
   "cell_type": "code",
   "execution_count": 195,
   "id": "0d60101e",
   "metadata": {},
   "outputs": [
    {
     "name": "stdout",
     "output_type": "stream",
     "text": [
      "0.9066666666666666\n"
     ]
    }
   ],
   "source": [
    "print(DecisionTree2)"
   ]
  },
  {
   "cell_type": "code",
   "execution_count": 196,
   "id": "e22ac22b",
   "metadata": {},
   "outputs": [],
   "source": [
    "svm2=model_function(LinearSVC(),X_train_tfidf,y_train,X_test_tfidf)"
   ]
  },
  {
   "cell_type": "code",
   "execution_count": 197,
   "id": "0793ad59",
   "metadata": {},
   "outputs": [
    {
     "name": "stdout",
     "output_type": "stream",
     "text": [
      "0.9368\n"
     ]
    }
   ],
   "source": [
    "print(svm2)"
   ]
  },
  {
   "cell_type": "code",
   "execution_count": 198,
   "id": "4af1f32e",
   "metadata": {},
   "outputs": [
    {
     "name": "stdout",
     "output_type": "stream",
     "text": [
      "0.9113333333333333\n"
     ]
    }
   ],
   "source": [
    "random_forest2=model_function(RandomForestClassifier(),\n",
    "                        X_train_tfidf,y_train,X_test_tfidf)\n",
    "print(random_forest2)"
   ]
  },
  {
   "cell_type": "code",
   "execution_count": null,
   "id": "a9fe311b",
   "metadata": {},
   "outputs": [],
   "source": [
    "'''Conclusion:\n",
    "         I have considered four classifiers to classify the content of comments into positive, neutral, and negative comments.\n",
    "         The classifier models were, LogisticRegression,DecisionTreeClassifier, SVM, RandomForest. These models are compared \n",
    "         based on their accuracy.  \n",
    "         \n",
    "        \n",
    "        The following DataFrame show that when text data are converted into numeric data by CountVectorizer we have better \n",
    "        performace.The best performance on the test set comes from the Support vector machine(SVM) and Logistic regression\n",
    "        with features from countVectorizer'''"
   ]
  },
  {
   "cell_type": "code",
   "execution_count": 199,
   "id": "cfd3dbe8",
   "metadata": {},
   "outputs": [
    {
     "name": "stdout",
     "output_type": "stream",
     "text": [
      "                 LogisticRegression  DecisionTree  SuppoerVectorMachine  \\\n",
      "countVectorizer            0.936800      0.917333              0.940667   \n",
      "TF-IDF                     0.924533      0.906667              0.936800   \n",
      "\n",
      "                 RandomForest  \n",
      "countVectorizer      0.903867  \n",
      "TF-IDF               0.911333  \n"
     ]
    }
   ],
   "source": [
    "data={'LogisticRegression':[regression1,regression2],'DecisionTree':[DecisionTree1,DecisionTree2],\n",
    "     'SuppoerVectorMachine':[svm1,svm2],'RandomForest':[random_forest1,random_forest2]}\n",
    "conclusion = pd.DataFrame(data, index=['countVectorizer','TF-IDF'])\n",
    "\n",
    "print (conclusion)"
   ]
  },
  {
   "cell_type": "code",
   "execution_count": 200,
   "id": "2298f165",
   "metadata": {},
   "outputs": [
    {
     "name": "stderr",
     "output_type": "stream",
     "text": [
      "C:\\Users\\karimin1\\Anaconda3\\lib\\site-packages\\sklearn\\linear_model\\_logistic.py:763: ConvergenceWarning: lbfgs failed to converge (status=1):\n",
      "STOP: TOTAL NO. of ITERATIONS REACHED LIMIT.\n",
      "\n",
      "Increase the number of iterations (max_iter) or scale the data as shown in:\n",
      "    https://scikit-learn.org/stable/modules/preprocessing.html\n",
      "Please also refer to the documentation for alternative solver options:\n",
      "    https://scikit-learn.org/stable/modules/linear_model.html#logistic-regression\n",
      "  n_iter_i = _check_optimize_result(\n"
     ]
    }
   ],
   "source": [
    "regression_model=linear_model.LogisticRegression().fit( X_train_count_vector,y_train)"
   ]
  },
  {
   "cell_type": "code",
   "execution_count": 201,
   "id": "b6d4410b",
   "metadata": {},
   "outputs": [
    {
     "name": "stdout",
     "output_type": "stream",
     "text": [
      "[-1.39389517  1.48936534 -0.09547017]\n"
     ]
    }
   ],
   "source": [
    "print(regression_model.intercept_)"
   ]
  },
  {
   "cell_type": "code",
   "execution_count": 202,
   "id": "7f9e959e",
   "metadata": {},
   "outputs": [
    {
     "name": "stdout",
     "output_type": "stream",
     "text": [
      "[[-2.52989181e-06  0.00000000e+00 -9.32945927e-06 ... -2.66831440e-05\n",
      "  -2.66831440e-05 -2.66831440e-05]\n",
      " [-2.22506444e-06  0.00000000e+00 -1.04966624e-05 ... -8.16230146e-06\n",
      "  -8.16230146e-06 -8.16230146e-06]\n",
      " [ 4.75495625e-06  0.00000000e+00  1.98261217e-05 ...  3.48454455e-05\n",
      "   3.48454455e-05  3.48454455e-05]]\n"
     ]
    }
   ],
   "source": [
    "print(regression_model.coef_)"
   ]
  },
  {
   "cell_type": "code",
   "execution_count": 75,
   "id": "ebe5b3ac",
   "metadata": {},
   "outputs": [],
   "source": [
    "y_prediction=regression_model.predict(X_test_count_vector)"
   ]
  },
  {
   "cell_type": "code",
   "execution_count": 76,
   "id": "bf11caa5",
   "metadata": {},
   "outputs": [
    {
     "data": {
      "text/plain": [
       "((7500,), (7500,))"
      ]
     },
     "execution_count": 76,
     "metadata": {},
     "output_type": "execute_result"
    }
   ],
   "source": [
    "y_prediction.shape , y_test.shape"
   ]
  },
  {
   "cell_type": "code",
   "execution_count": 77,
   "id": "d79b8f61",
   "metadata": {},
   "outputs": [
    {
     "data": {
      "image/png": "[encoded data removed]",
      "text/plain": [
       "<Figure size 720x720 with 2 Axes>"
      ]
     },
     "metadata": {
      "needs_background": "light"
     },
     "output_type": "display_data"
    }
   ],
   "source": [
    "#Let's look at the confusion matrix for the validation data.\n",
    "\n",
    "\n",
    "from sklearn.metrics import confusion_matrix\n",
    "import seaborn as sns\n",
    "\n",
    "conf_mat = confusion_matrix(y_test, y_prediction)\n",
    "fig, ax = plt.subplots(figsize=(10,10))\n",
    "\n",
    "sns.heatmap(conf_mat, annot=True)\n",
    "plt.ylabel('Actual')\n",
    "plt.xlabel('Predicted')\n",
    "plt.show()"
   ]
  },
  {
   "cell_type": "code",
   "execution_count": null,
   "id": "c8d88093",
   "metadata": {},
   "outputs": [],
   "source": [
    "'''keyword extraction'''"
   ]
  },
  {
   "cell_type": "code",
   "execution_count": 78,
   "id": "7f7e5a0f",
   "metadata": {},
   "outputs": [],
   "source": [
    "#A new object is created by the clean_text class and I will remove stopwords before extracting keywords.\n",
    "\n",
    "cd=clean_text()\n",
    "clean_data=cd.pre_process(df['Translated comment'])"
   ]
  },
  {
   "cell_type": "code",
   "execution_count": 79,
   "id": "4bb785ef",
   "metadata": {},
   "outputs": [
    {
     "data": {
      "text/plain": [
       "0                                       Just good easy use\n",
       "1                                                    Quick\n",
       "2                                  Its much faster laptop.\n",
       "3                      slow, clunky. useful poor interface\n",
       "4                                   makes life much easier\n",
       "                               ...                        \n",
       "24995    Quick effective, especially fingerprint reader...\n",
       "24996                                                Great\n",
       "24997    Trash. Complete trash app. Takes forever load ...\n",
       "24998    Saves trip bank. Love app everything right pho...\n",
       "24999    Very useful. Cashing checks phone makes life m...\n",
       "Name: Translated comment, Length: 25000, dtype: object"
      ]
     },
     "execution_count": 79,
     "metadata": {},
     "output_type": "execute_result"
    }
   ],
   "source": [
    "clean_data"
   ]
  },
  {
   "cell_type": "code",
   "execution_count": 80,
   "id": "cf304834",
   "metadata": {},
   "outputs": [],
   "source": [
    "key_word_extractor=yake.KeywordExtractor()\n",
    "def get_keywords_yake(idx, text):\n",
    "    y = yake.KeywordExtractor(lan='en',          # language\n",
    "                             n = 3,              # n-gram size\n",
    "                             dedupLim = 0.9,     # deduplicationthresold\n",
    "                             dedupFunc = 'seqm', #  deduplication algorithm\n",
    "                             windowsSize = 1,\n",
    "                             top = 10,           # number of keys\n",
    "                             features=None)           \n",
    "    \n",
    "    keywords = y.extract_keywords(text)\n",
    "    return keywords\n"
   ]
  },
  {
   "cell_type": "code",
   "execution_count": 81,
   "id": "55962514",
   "metadata": {},
   "outputs": [
    {
     "name": "stdout",
     "output_type": "stream",
     "text": [
      "0 [('good easy', 0.09700399286574239), ('good', 0.29736558256021506), ('easy', 0.29736558256021506)] Just good easy use\n"
     ]
    }
   ],
   "source": [
    "#keywords in the first comment.  We can see keywords that are words with the most scores.\n",
    "\n",
    "idx=0\n",
    "keywords = get_keywords_yake(idx, clean_data[idx])\n",
    "print(idx, keywords, clean_data[idx])"
   ]
  },
  {
   "cell_type": "code",
   "execution_count": 213,
   "id": "2338be99",
   "metadata": {},
   "outputs": [],
   "source": [
    "'''Another way to extract keywords will be done by TF-IDF technique.'''\n",
    "\n",
    "text_data=df.clean_data.values.tolist()"
   ]
  },
  {
   "cell_type": "code",
   "execution_count": 214,
   "id": "de3bcdd0",
   "metadata": {},
   "outputs": [],
   "source": [
    "#create a vocabulary of words by countvectorizer \n",
    "\n",
    "count_vector=CountVectorizer(max_df=0.95,         # ignore words that appear in 95% of documents\n",
    "                   max_features=10000,  # the size of the vocabulary\n",
    "                   ngram_range=(1,3)    # vocabulary contains single words, bigrams, trigrams\n",
    "                  )\n",
    "word_count_vect=count_vector.fit_transform(text_data)"
   ]
  },
  {
   "cell_type": "code",
   "execution_count": 215,
   "id": "dd6655e7",
   "metadata": {},
   "outputs": [
    {
     "data": {
      "text/plain": [
       "(25000, 10000)"
      ]
     },
     "execution_count": 215,
     "metadata": {},
     "output_type": "execute_result"
    }
   ],
   "source": [
    "#shape of vocabulary is (25000,10000), it means that the number of unique words is 10000 except that stopwords. Also there are\n",
    "#25000 text in Translated comment column.\n",
    "\n",
    "word_count_vect.shape"
   ]
  },
  {
   "cell_type": "code",
   "execution_count": 216,
   "id": "7f016f13",
   "metadata": {},
   "outputs": [
    {
     "data": {
      "text/plain": [
       "TfidfTransformer()"
      ]
     },
     "execution_count": 216,
     "metadata": {},
     "output_type": "execute_result"
    }
   ],
   "source": [
    "# Here we are taking sparse matrix from countvetrorizer to generate IDF\n",
    "\n",
    "tfidf_transformer=TfidfTransformer(smooth_idf=True,use_idf=True) #use_idf enable inverse-document-frequency reweighting.\n",
    "tfidf_transformer.fit(word_count_vect)"
   ]
  },
  {
   "cell_type": "code",
   "execution_count": null,
   "id": "c59cd423",
   "metadata": {},
   "outputs": [],
   "source": [
    "#Computing TF-IDF and Extracting Keywords: After computing IDF, Once we have our IDF computed,  TF-IDF is computed and extract \n",
    "#the top keywords. Using the tf-idf weighting scheme, the keywords are the words with the higherst TF-IDF score.\n"
   ]
  },
  {
   "cell_type": "code",
   "execution_count": 217,
   "id": "c95474ed",
   "metadata": {},
   "outputs": [],
   "source": [
    "def sort_coo(coo_matrix):\n",
    "    tuples = zip(coo_matrix.col, coo_matrix.data)\n",
    "    return sorted(tuples, key=lambda x: (x[1], x[0]), reverse=True)"
   ]
  },
  {
   "cell_type": "code",
   "execution_count": 218,
   "id": "66c46cd9",
   "metadata": {},
   "outputs": [],
   "source": [
    "\n",
    "def extract_topn_from_vector(feature_names, sorted_items, topn=10):\n",
    "    \"\"\"get the feature names and tf-idf score of top n items\"\"\"\n",
    "    \n",
    "    #use only topn items from vector\n",
    "    sorted_items = sorted_items[:topn]\n",
    "\n",
    "    score_vals = []\n",
    "    feature_vals = []\n",
    "\n",
    "    for idx, score in sorted_items:\n",
    "        fname = feature_names[idx]\n",
    "        \n",
    "        #keep track of feature name and its corresponding score\n",
    "        score_vals.append(round(score, 3))\n",
    "        feature_vals.append(feature_names[idx])\n",
    "        #create a tuples of feature,score\n",
    "    #results = zip(feature_vals,score_vals)\n",
    "    results= {}\n",
    "    for idx in range(len(feature_vals)):\n",
    "        results[feature_vals[idx]]=score_vals[idx]\n",
    "    \n",
    "    return results"
   ]
  },
  {
   "cell_type": "code",
   "execution_count": 219,
   "id": "ceb650c9",
   "metadata": {},
   "outputs": [],
   "source": [
    "feature_names=count_vector.get_feature_names()"
   ]
  },
  {
   "cell_type": "code",
   "execution_count": 220,
   "id": "fa47c838",
   "metadata": {},
   "outputs": [],
   "source": [
    "def get_keywords(idx, docs):\n",
    "\n",
    "    #generate tf-idf for the given document\n",
    "    tf_idf_vector=tfidf_transformer.transform(count_vector.transform([docs[idx]]))\n",
    "\n",
    "    #sort the tf-idf vectors by descending order of scores\n",
    "    sorted_items=sort_coo(tf_idf_vector.tocoo()) #convert tf-idf-vector to coordinate format\n",
    "\n",
    "    #extract only the top n; n here is 10\n",
    "    keywords=extract_topn_from_vector(feature_names,sorted_items,10)\n",
    "    \n",
    "    return keywords"
   ]
  },
  {
   "cell_type": "code",
   "execution_count": 221,
   "id": "6b4c7325",
   "metadata": {},
   "outputs": [],
   "source": [
    "def print_results(idx,keywords, df):\n",
    "    # now print the results\n",
    "    print(\"\\n===Keywords===\")\n",
    "    for k in keywords:\n",
    "        print(k,keywords[k])"
   ]
  },
  {
   "cell_type": "code",
   "execution_count": 222,
   "id": "0b4cc41e",
   "metadata": {},
   "outputs": [
    {
     "name": "stdout",
     "output_type": "stream",
     "text": [
      "\n",
      "===Keywords===\n",
      "veri good easi 0.525\n",
      "good easi use 0.489\n",
      "good easi 0.458\n",
      "veri good 0.33\n",
      "good 0.218\n",
      "easi use 0.194\n",
      "veri 0.185\n",
      "easi 0.157\n",
      "use 0.147\n"
     ]
    }
   ],
   "source": [
    "idx=0\n",
    "keywords=get_keywords(idx, text_data)\n",
    "print_results(idx,keywords, text_data)"
   ]
  },
  {
   "cell_type": "code",
   "execution_count": 223,
   "id": "daee4085",
   "metadata": {},
   "outputs": [],
   "source": [
    "#Finding keyword in Translated comment column.\n",
    "data1=df['Translated comment'].tolist()"
   ]
  },
  {
   "cell_type": "code",
   "execution_count": 224,
   "id": "c9ff6acf",
   "metadata": {},
   "outputs": [
    {
     "name": "stdout",
     "output_type": "stream",
     "text": [
      "\n",
      "===Keywords===\n",
      "good 0.828\n",
      "use 0.56\n"
     ]
    }
   ],
   "source": [
    "idx=0\n",
    "keywords=get_keywords(idx, data1)\n",
    "print_results(idx,keywords, data1)"
   ]
  },
  {
   "cell_type": "code",
   "execution_count": null,
   "id": "0091255f",
   "metadata": {},
   "outputs": [],
   "source": [
    "'''collocation'''"
   ]
  },
  {
   "cell_type": "code",
   "execution_count": 225,
   "id": "79b47981",
   "metadata": {},
   "outputs": [
    {
     "ename": "AttributeError",
     "evalue": "module 'nltk.corpus' has no attribute 'df'",
     "output_type": "error",
     "traceback": [
      "\u001b[1;31m---------------------------------------------------------------------------\u001b[0m",
      "\u001b[1;31mAttributeError\u001b[0m                            Traceback (most recent call last)",
      "\u001b[1;32m<ipython-input-225-df0af84e4638>\u001b[0m in \u001b[0;36m<module>\u001b[1;34m\u001b[0m\n\u001b[1;32m----> 1\u001b[1;33m \u001b[0mtext\u001b[0m \u001b[1;33m=\u001b[0m \u001b[0mnltk\u001b[0m\u001b[1;33m.\u001b[0m\u001b[0mText\u001b[0m\u001b[1;33m(\u001b[0m\u001b[0mnltk\u001b[0m\u001b[1;33m.\u001b[0m\u001b[0mcorpus\u001b[0m\u001b[1;33m.\u001b[0m\u001b[0mdf\u001b[0m\u001b[1;33m[\u001b[0m\u001b[1;34m'Translated comment'\u001b[0m\u001b[1;33m]\u001b[0m\u001b[1;33m.\u001b[0m\u001b[0mwords\u001b[0m\u001b[1;33m(\u001b[0m\u001b[1;33m)\u001b[0m\u001b[1;33m)\u001b[0m\u001b[1;33m\u001b[0m\u001b[1;33m\u001b[0m\u001b[0m\n\u001b[0m",
      "\u001b[1;32m~\\Anaconda3\\lib\\site-packages\\nltk\\lazyimport.py\u001b[0m in \u001b[0;36m__getattr__\u001b[1;34m(self, name)\u001b[0m\n\u001b[0;32m    120\u001b[0m             )\n\u001b[0;32m    121\u001b[0m         \u001b[0mmodule\u001b[0m \u001b[1;33m=\u001b[0m \u001b[0mself\u001b[0m\u001b[1;33m.\u001b[0m\u001b[0m__lazymodule_import\u001b[0m\u001b[1;33m(\u001b[0m\u001b[1;33m)\u001b[0m\u001b[1;33m\u001b[0m\u001b[1;33m\u001b[0m\u001b[0m\n\u001b[1;32m--> 122\u001b[1;33m         \u001b[1;32mreturn\u001b[0m \u001b[0mgetattr\u001b[0m\u001b[1;33m(\u001b[0m\u001b[0mmodule\u001b[0m\u001b[1;33m,\u001b[0m \u001b[0mname\u001b[0m\u001b[1;33m)\u001b[0m\u001b[1;33m\u001b[0m\u001b[1;33m\u001b[0m\u001b[0m\n\u001b[0m\u001b[0;32m    123\u001b[0m \u001b[1;33m\u001b[0m\u001b[0m\n\u001b[0;32m    124\u001b[0m     \u001b[1;32mdef\u001b[0m \u001b[0m__setattr__\u001b[0m\u001b[1;33m(\u001b[0m\u001b[0mself\u001b[0m\u001b[1;33m,\u001b[0m \u001b[0mname\u001b[0m\u001b[1;33m,\u001b[0m \u001b[0mvalue\u001b[0m\u001b[1;33m)\u001b[0m\u001b[1;33m:\u001b[0m\u001b[1;33m\u001b[0m\u001b[1;33m\u001b[0m\u001b[0m\n",
      "\u001b[1;31mAttributeError\u001b[0m: module 'nltk.corpus' has no attribute 'df'"
     ]
    }
   ],
   "source": [
    "text = nltk.Text(nltk.corpus.df['Translated comment'].words())"
   ]
  },
  {
   "cell_type": "code",
   "execution_count": null,
   "id": "8e602f04",
   "metadata": {},
   "outputs": [],
   "source": []
  }
 ],
 "metadata": {
  "kernelspec": {
   "display_name": "Python 3",
   "language": "python",
   "name": "python3"
  },
  "language_info": {
   "codemirror_mode": {
    "name": "ipython",
    "version": 3
   },
   "file_extension": ".py",
   "mimetype": "text/x-python",
   "name": "python",
   "nbconvert_exporter": "python",
   "pygments_lexer": "ipython3",
   "version": "3.8.8"
  }
 },
 "nbformat": 4,
 "nbformat_minor": 5
}
